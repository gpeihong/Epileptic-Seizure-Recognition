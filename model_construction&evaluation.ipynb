{
  "nbformat": 4,
  "nbformat_minor": 0,
  "metadata": {
    "colab": {
      "provenance": [],
      "collapsed_sections": []
    },
    "kernelspec": {
      "name": "python3",
      "display_name": "Python 3"
    },
    "language_info": {
      "name": "python"
    }
  },
  "cells": [
    {
      "cell_type": "code",
      "execution_count": null,
      "metadata": {
        "id": "k-GoAEkxjSEB",
        "colab": {
          "base_uri": "https://localhost:8080/"
        },
        "outputId": "d83bc3f6-0eea-4446-be2f-9205c579526a"
      },
      "outputs": [
        {
          "output_type": "stream",
          "name": "stdout",
          "text": [
            "Mounted at /content/drive\n"
          ]
        }
      ],
      "source": [
        "from google.colab import drive\n",
        "drive.mount('/content/drive')"
      ]
    },
    {
      "cell_type": "code",
      "source": [
        "# import libraries\n",
        "import numpy as np\n",
        "import matplotlib.pyplot as plt\n",
        "import seaborn as sns\n",
        "import pandas as pd\n",
        "\n",
        "from sklearn.model_selection import train_test_split\n",
        "from imblearn.over_sampling import RandomOverSampler\n",
        "from sklearn.preprocessing import StandardScaler"
      ],
      "metadata": {
        "id": "D9-51hwQkAvO"
      },
      "execution_count": null,
      "outputs": []
    },
    {
      "cell_type": "code",
      "source": [
        "data = pd.read_csv('/content/drive/MyDrive/6200project-guo/Epileptic Seizure Recognition.csv')\n",
        "data"
      ],
      "metadata": {
        "id": "1aoZvtgdkOU2",
        "colab": {
          "base_uri": "https://localhost:8080/",
          "height": 423
        },
        "outputId": "ec56247f-0dc6-4d9a-d46e-140212022441"
      },
      "execution_count": null,
      "outputs": [
        {
          "output_type": "execute_result",
          "data": {
            "text/plain": [
              "          Unnamed   X1   X2   X3   X4   X5   X6   X7   X8   X9  ...  X170  \\\n",
              "0      X21.V1.791  135  190  229  223  192  125   55   -9  -33  ...   -17   \n",
              "1      X15.V1.924  386  382  356  331  320  315  307  272  244  ...   164   \n",
              "2         X8.V1.1  -32  -39  -47  -37  -32  -36  -57  -73  -85  ...    57   \n",
              "3       X16.V1.60 -105 -101  -96  -92  -89  -95 -102 -100  -87  ...   -82   \n",
              "4       X20.V1.54   -9  -65  -98 -102  -78  -48  -16    0  -21  ...     4   \n",
              "...           ...  ...  ...  ...  ...  ...  ...  ...  ...  ...  ...   ...   \n",
              "11495  X22.V1.114  -22  -22  -23  -26  -36  -42  -45  -42  -45  ...    15   \n",
              "11496  X19.V1.354  -47  -11   28   77  141  211  246  240  193  ...   -65   \n",
              "11497    X8.V1.28   14    6  -13  -16   10   26   27   -9    4  ...   -65   \n",
              "11498  X10.V1.932  -40  -25   -9  -12   -2   12    7   19   22  ...   121   \n",
              "11499  X16.V1.210   29   41   57   72   74   62   54   43   31  ...   -59   \n",
              "\n",
              "       X171  X172  X173  X174  X175  X176  X177  X178  y  \n",
              "0       -15   -31   -77  -103  -127  -116   -83   -51  4  \n",
              "1       150   146   152   157   156   154   143   129  1  \n",
              "2        64    48    19   -12   -30   -35   -35   -36  5  \n",
              "3       -81   -80   -77   -85   -77   -72   -69   -65  5  \n",
              "4         2   -12   -32   -41   -65   -83   -89   -73  5  \n",
              "...     ...   ...   ...   ...   ...   ...   ...   ... ..  \n",
              "11495    16    12     5    -1   -18   -37   -47   -48  2  \n",
              "11496   -33    -7    14    27    48    77   117   170  1  \n",
              "11497   -48   -61   -62   -67   -30    -2    -1    -8  5  \n",
              "11498   135   148   143   116    86    68    59    55  3  \n",
              "11499   -25    -4     2     5     4    -2     2    20  4  \n",
              "\n",
              "[11500 rows x 180 columns]"
            ],
            "text/html": [
              "\n",
              "  <div id=\"df-c0f04d84-3987-4c7e-904f-20f379a35167\">\n",
              "    <div class=\"colab-df-container\">\n",
              "      <div>\n",
              "<style scoped>\n",
              "    .dataframe tbody tr th:only-of-type {\n",
              "        vertical-align: middle;\n",
              "    }\n",
              "\n",
              "    .dataframe tbody tr th {\n",
              "        vertical-align: top;\n",
              "    }\n",
              "\n",
              "    .dataframe thead th {\n",
              "        text-align: right;\n",
              "    }\n",
              "</style>\n",
              "<table border=\"1\" class=\"dataframe\">\n",
              "  <thead>\n",
              "    <tr style=\"text-align: right;\">\n",
              "      <th></th>\n",
              "      <th>Unnamed</th>\n",
              "      <th>X1</th>\n",
              "      <th>X2</th>\n",
              "      <th>X3</th>\n",
              "      <th>X4</th>\n",
              "      <th>X5</th>\n",
              "      <th>X6</th>\n",
              "      <th>X7</th>\n",
              "      <th>X8</th>\n",
              "      <th>X9</th>\n",
              "      <th>...</th>\n",
              "      <th>X170</th>\n",
              "      <th>X171</th>\n",
              "      <th>X172</th>\n",
              "      <th>X173</th>\n",
              "      <th>X174</th>\n",
              "      <th>X175</th>\n",
              "      <th>X176</th>\n",
              "      <th>X177</th>\n",
              "      <th>X178</th>\n",
              "      <th>y</th>\n",
              "    </tr>\n",
              "  </thead>\n",
              "  <tbody>\n",
              "    <tr>\n",
              "      <th>0</th>\n",
              "      <td>X21.V1.791</td>\n",
              "      <td>135</td>\n",
              "      <td>190</td>\n",
              "      <td>229</td>\n",
              "      <td>223</td>\n",
              "      <td>192</td>\n",
              "      <td>125</td>\n",
              "      <td>55</td>\n",
              "      <td>-9</td>\n",
              "      <td>-33</td>\n",
              "      <td>...</td>\n",
              "      <td>-17</td>\n",
              "      <td>-15</td>\n",
              "      <td>-31</td>\n",
              "      <td>-77</td>\n",
              "      <td>-103</td>\n",
              "      <td>-127</td>\n",
              "      <td>-116</td>\n",
              "      <td>-83</td>\n",
              "      <td>-51</td>\n",
              "      <td>4</td>\n",
              "    </tr>\n",
              "    <tr>\n",
              "      <th>1</th>\n",
              "      <td>X15.V1.924</td>\n",
              "      <td>386</td>\n",
              "      <td>382</td>\n",
              "      <td>356</td>\n",
              "      <td>331</td>\n",
              "      <td>320</td>\n",
              "      <td>315</td>\n",
              "      <td>307</td>\n",
              "      <td>272</td>\n",
              "      <td>244</td>\n",
              "      <td>...</td>\n",
              "      <td>164</td>\n",
              "      <td>150</td>\n",
              "      <td>146</td>\n",
              "      <td>152</td>\n",
              "      <td>157</td>\n",
              "      <td>156</td>\n",
              "      <td>154</td>\n",
              "      <td>143</td>\n",
              "      <td>129</td>\n",
              "      <td>1</td>\n",
              "    </tr>\n",
              "    <tr>\n",
              "      <th>2</th>\n",
              "      <td>X8.V1.1</td>\n",
              "      <td>-32</td>\n",
              "      <td>-39</td>\n",
              "      <td>-47</td>\n",
              "      <td>-37</td>\n",
              "      <td>-32</td>\n",
              "      <td>-36</td>\n",
              "      <td>-57</td>\n",
              "      <td>-73</td>\n",
              "      <td>-85</td>\n",
              "      <td>...</td>\n",
              "      <td>57</td>\n",
              "      <td>64</td>\n",
              "      <td>48</td>\n",
              "      <td>19</td>\n",
              "      <td>-12</td>\n",
              "      <td>-30</td>\n",
              "      <td>-35</td>\n",
              "      <td>-35</td>\n",
              "      <td>-36</td>\n",
              "      <td>5</td>\n",
              "    </tr>\n",
              "    <tr>\n",
              "      <th>3</th>\n",
              "      <td>X16.V1.60</td>\n",
              "      <td>-105</td>\n",
              "      <td>-101</td>\n",
              "      <td>-96</td>\n",
              "      <td>-92</td>\n",
              "      <td>-89</td>\n",
              "      <td>-95</td>\n",
              "      <td>-102</td>\n",
              "      <td>-100</td>\n",
              "      <td>-87</td>\n",
              "      <td>...</td>\n",
              "      <td>-82</td>\n",
              "      <td>-81</td>\n",
              "      <td>-80</td>\n",
              "      <td>-77</td>\n",
              "      <td>-85</td>\n",
              "      <td>-77</td>\n",
              "      <td>-72</td>\n",
              "      <td>-69</td>\n",
              "      <td>-65</td>\n",
              "      <td>5</td>\n",
              "    </tr>\n",
              "    <tr>\n",
              "      <th>4</th>\n",
              "      <td>X20.V1.54</td>\n",
              "      <td>-9</td>\n",
              "      <td>-65</td>\n",
              "      <td>-98</td>\n",
              "      <td>-102</td>\n",
              "      <td>-78</td>\n",
              "      <td>-48</td>\n",
              "      <td>-16</td>\n",
              "      <td>0</td>\n",
              "      <td>-21</td>\n",
              "      <td>...</td>\n",
              "      <td>4</td>\n",
              "      <td>2</td>\n",
              "      <td>-12</td>\n",
              "      <td>-32</td>\n",
              "      <td>-41</td>\n",
              "      <td>-65</td>\n",
              "      <td>-83</td>\n",
              "      <td>-89</td>\n",
              "      <td>-73</td>\n",
              "      <td>5</td>\n",
              "    </tr>\n",
              "    <tr>\n",
              "      <th>...</th>\n",
              "      <td>...</td>\n",
              "      <td>...</td>\n",
              "      <td>...</td>\n",
              "      <td>...</td>\n",
              "      <td>...</td>\n",
              "      <td>...</td>\n",
              "      <td>...</td>\n",
              "      <td>...</td>\n",
              "      <td>...</td>\n",
              "      <td>...</td>\n",
              "      <td>...</td>\n",
              "      <td>...</td>\n",
              "      <td>...</td>\n",
              "      <td>...</td>\n",
              "      <td>...</td>\n",
              "      <td>...</td>\n",
              "      <td>...</td>\n",
              "      <td>...</td>\n",
              "      <td>...</td>\n",
              "      <td>...</td>\n",
              "      <td>...</td>\n",
              "    </tr>\n",
              "    <tr>\n",
              "      <th>11495</th>\n",
              "      <td>X22.V1.114</td>\n",
              "      <td>-22</td>\n",
              "      <td>-22</td>\n",
              "      <td>-23</td>\n",
              "      <td>-26</td>\n",
              "      <td>-36</td>\n",
              "      <td>-42</td>\n",
              "      <td>-45</td>\n",
              "      <td>-42</td>\n",
              "      <td>-45</td>\n",
              "      <td>...</td>\n",
              "      <td>15</td>\n",
              "      <td>16</td>\n",
              "      <td>12</td>\n",
              "      <td>5</td>\n",
              "      <td>-1</td>\n",
              "      <td>-18</td>\n",
              "      <td>-37</td>\n",
              "      <td>-47</td>\n",
              "      <td>-48</td>\n",
              "      <td>2</td>\n",
              "    </tr>\n",
              "    <tr>\n",
              "      <th>11496</th>\n",
              "      <td>X19.V1.354</td>\n",
              "      <td>-47</td>\n",
              "      <td>-11</td>\n",
              "      <td>28</td>\n",
              "      <td>77</td>\n",
              "      <td>141</td>\n",
              "      <td>211</td>\n",
              "      <td>246</td>\n",
              "      <td>240</td>\n",
              "      <td>193</td>\n",
              "      <td>...</td>\n",
              "      <td>-65</td>\n",
              "      <td>-33</td>\n",
              "      <td>-7</td>\n",
              "      <td>14</td>\n",
              "      <td>27</td>\n",
              "      <td>48</td>\n",
              "      <td>77</td>\n",
              "      <td>117</td>\n",
              "      <td>170</td>\n",
              "      <td>1</td>\n",
              "    </tr>\n",
              "    <tr>\n",
              "      <th>11497</th>\n",
              "      <td>X8.V1.28</td>\n",
              "      <td>14</td>\n",
              "      <td>6</td>\n",
              "      <td>-13</td>\n",
              "      <td>-16</td>\n",
              "      <td>10</td>\n",
              "      <td>26</td>\n",
              "      <td>27</td>\n",
              "      <td>-9</td>\n",
              "      <td>4</td>\n",
              "      <td>...</td>\n",
              "      <td>-65</td>\n",
              "      <td>-48</td>\n",
              "      <td>-61</td>\n",
              "      <td>-62</td>\n",
              "      <td>-67</td>\n",
              "      <td>-30</td>\n",
              "      <td>-2</td>\n",
              "      <td>-1</td>\n",
              "      <td>-8</td>\n",
              "      <td>5</td>\n",
              "    </tr>\n",
              "    <tr>\n",
              "      <th>11498</th>\n",
              "      <td>X10.V1.932</td>\n",
              "      <td>-40</td>\n",
              "      <td>-25</td>\n",
              "      <td>-9</td>\n",
              "      <td>-12</td>\n",
              "      <td>-2</td>\n",
              "      <td>12</td>\n",
              "      <td>7</td>\n",
              "      <td>19</td>\n",
              "      <td>22</td>\n",
              "      <td>...</td>\n",
              "      <td>121</td>\n",
              "      <td>135</td>\n",
              "      <td>148</td>\n",
              "      <td>143</td>\n",
              "      <td>116</td>\n",
              "      <td>86</td>\n",
              "      <td>68</td>\n",
              "      <td>59</td>\n",
              "      <td>55</td>\n",
              "      <td>3</td>\n",
              "    </tr>\n",
              "    <tr>\n",
              "      <th>11499</th>\n",
              "      <td>X16.V1.210</td>\n",
              "      <td>29</td>\n",
              "      <td>41</td>\n",
              "      <td>57</td>\n",
              "      <td>72</td>\n",
              "      <td>74</td>\n",
              "      <td>62</td>\n",
              "      <td>54</td>\n",
              "      <td>43</td>\n",
              "      <td>31</td>\n",
              "      <td>...</td>\n",
              "      <td>-59</td>\n",
              "      <td>-25</td>\n",
              "      <td>-4</td>\n",
              "      <td>2</td>\n",
              "      <td>5</td>\n",
              "      <td>4</td>\n",
              "      <td>-2</td>\n",
              "      <td>2</td>\n",
              "      <td>20</td>\n",
              "      <td>4</td>\n",
              "    </tr>\n",
              "  </tbody>\n",
              "</table>\n",
              "<p>11500 rows × 180 columns</p>\n",
              "</div>\n",
              "      <button class=\"colab-df-convert\" onclick=\"convertToInteractive('df-c0f04d84-3987-4c7e-904f-20f379a35167')\"\n",
              "              title=\"Convert this dataframe to an interactive table.\"\n",
              "              style=\"display:none;\">\n",
              "        \n",
              "  <svg xmlns=\"http://www.w3.org/2000/svg\" height=\"24px\"viewBox=\"0 0 24 24\"\n",
              "       width=\"24px\">\n",
              "    <path d=\"M0 0h24v24H0V0z\" fill=\"none\"/>\n",
              "    <path d=\"M18.56 5.44l.94 2.06.94-2.06 2.06-.94-2.06-.94-.94-2.06-.94 2.06-2.06.94zm-11 1L8.5 8.5l.94-2.06 2.06-.94-2.06-.94L8.5 2.5l-.94 2.06-2.06.94zm10 10l.94 2.06.94-2.06 2.06-.94-2.06-.94-.94-2.06-.94 2.06-2.06.94z\"/><path d=\"M17.41 7.96l-1.37-1.37c-.4-.4-.92-.59-1.43-.59-.52 0-1.04.2-1.43.59L10.3 9.45l-7.72 7.72c-.78.78-.78 2.05 0 2.83L4 21.41c.39.39.9.59 1.41.59.51 0 1.02-.2 1.41-.59l7.78-7.78 2.81-2.81c.8-.78.8-2.07 0-2.86zM5.41 20L4 18.59l7.72-7.72 1.47 1.35L5.41 20z\"/>\n",
              "  </svg>\n",
              "      </button>\n",
              "      \n",
              "  <style>\n",
              "    .colab-df-container {\n",
              "      display:flex;\n",
              "      flex-wrap:wrap;\n",
              "      gap: 12px;\n",
              "    }\n",
              "\n",
              "    .colab-df-convert {\n",
              "      background-color: #E8F0FE;\n",
              "      border: none;\n",
              "      border-radius: 50%;\n",
              "      cursor: pointer;\n",
              "      display: none;\n",
              "      fill: #1967D2;\n",
              "      height: 32px;\n",
              "      padding: 0 0 0 0;\n",
              "      width: 32px;\n",
              "    }\n",
              "\n",
              "    .colab-df-convert:hover {\n",
              "      background-color: #E2EBFA;\n",
              "      box-shadow: 0px 1px 2px rgba(60, 64, 67, 0.3), 0px 1px 3px 1px rgba(60, 64, 67, 0.15);\n",
              "      fill: #174EA6;\n",
              "    }\n",
              "\n",
              "    [theme=dark] .colab-df-convert {\n",
              "      background-color: #3B4455;\n",
              "      fill: #D2E3FC;\n",
              "    }\n",
              "\n",
              "    [theme=dark] .colab-df-convert:hover {\n",
              "      background-color: #434B5C;\n",
              "      box-shadow: 0px 1px 3px 1px rgba(0, 0, 0, 0.15);\n",
              "      filter: drop-shadow(0px 1px 2px rgba(0, 0, 0, 0.3));\n",
              "      fill: #FFFFFF;\n",
              "    }\n",
              "  </style>\n",
              "\n",
              "      <script>\n",
              "        const buttonEl =\n",
              "          document.querySelector('#df-c0f04d84-3987-4c7e-904f-20f379a35167 button.colab-df-convert');\n",
              "        buttonEl.style.display =\n",
              "          google.colab.kernel.accessAllowed ? 'block' : 'none';\n",
              "\n",
              "        async function convertToInteractive(key) {\n",
              "          const element = document.querySelector('#df-c0f04d84-3987-4c7e-904f-20f379a35167');\n",
              "          const dataTable =\n",
              "            await google.colab.kernel.invokeFunction('convertToInteractive',\n",
              "                                                     [key], {});\n",
              "          if (!dataTable) return;\n",
              "\n",
              "          const docLinkHtml = 'Like what you see? Visit the ' +\n",
              "            '<a target=\"_blank\" href=https://colab.research.google.com/notebooks/data_table.ipynb>data table notebook</a>'\n",
              "            + ' to learn more about interactive tables.';\n",
              "          element.innerHTML = '';\n",
              "          dataTable['output_type'] = 'display_data';\n",
              "          await google.colab.output.renderOutput(dataTable, element);\n",
              "          const docLink = document.createElement('div');\n",
              "          docLink.innerHTML = docLinkHtml;\n",
              "          element.appendChild(docLink);\n",
              "        }\n",
              "      </script>\n",
              "    </div>\n",
              "  </div>\n",
              "  "
            ]
          },
          "metadata": {},
          "execution_count": 4
        }
      ]
    },
    {
      "cell_type": "code",
      "source": [],
      "metadata": {
        "id": "Yjv8qEWxMbT1"
      },
      "execution_count": null,
      "outputs": []
    },
    {
      "cell_type": "code",
      "source": [
        "data['y'].value_counts()"
      ],
      "metadata": {
        "id": "zEffqwWBk24A",
        "colab": {
          "base_uri": "https://localhost:8080/"
        },
        "outputId": "dabe9bce-7756-4a71-bf7e-5666922952d8"
      },
      "execution_count": null,
      "outputs": [
        {
          "output_type": "execute_result",
          "data": {
            "text/plain": [
              "4    2300\n",
              "1    2300\n",
              "5    2300\n",
              "2    2300\n",
              "3    2300\n",
              "Name: y, dtype: int64"
            ]
          },
          "metadata": {},
          "execution_count": 50
        }
      ]
    },
    {
      "cell_type": "code",
      "source": [
        "plt.figure(figsize=(8,4.5))\n",
        "sns.countplot(data['y'], palette='GnBu')\n",
        "plt.show()"
      ],
      "metadata": {
        "id": "qy2wmegdlFDQ",
        "colab": {
          "base_uri": "https://localhost:8080/",
          "height": 362
        },
        "outputId": "dcf07f5e-e607-4e15-b480-5153fe9ca3f6"
      },
      "execution_count": null,
      "outputs": [
        {
          "output_type": "stream",
          "name": "stderr",
          "text": [
            "/usr/local/lib/python3.7/dist-packages/seaborn/_decorators.py:43: FutureWarning: Pass the following variable as a keyword arg: x. From version 0.12, the only valid positional argument will be `data`, and passing other arguments without an explicit keyword will result in an error or misinterpretation.\n",
            "  FutureWarning\n"
          ]
        },
        {
          "output_type": "display_data",
          "data": {
            "text/plain": [
              "<Figure size 576x324 with 1 Axes>"
            ],
            "image/png": "[encoded data removed]"
          },
          "metadata": {
            "needs_background": "light"
          }
        }
      ]
    },
    {
      "cell_type": "markdown",
      "source": [
        "### **binary classification, namely class 1 (Epileptic seizure) against the rest.**"
      ],
      "metadata": {
        "id": "cRI1XEP6miRr"
      }
    },
    {
      "cell_type": "code",
      "source": [
        "y_len = len(data['y'])\n",
        "for i in range(y_len):\n",
        "  if data['y'][i] != 1:\n",
        "    data['y'][i] = 0"
      ],
      "metadata": {
        "id": "jhpGMZhNmkEK",
        "colab": {
          "base_uri": "https://localhost:8080/"
        },
        "outputId": "2fb72fad-1d98-4af3-d701-02a56150de42"
      },
      "execution_count": null,
      "outputs": [
        {
          "output_type": "stream",
          "name": "stderr",
          "text": [
            "/usr/local/lib/python3.7/dist-packages/ipykernel_launcher.py:4: SettingWithCopyWarning: \n",
            "A value is trying to be set on a copy of a slice from a DataFrame\n",
            "\n",
            "See the caveats in the documentation: https://pandas.pydata.org/pandas-docs/stable/user_guide/indexing.html#returning-a-view-versus-a-copy\n",
            "  after removing the cwd from sys.path.\n"
          ]
        }
      ]
    },
    {
      "cell_type": "code",
      "source": [
        "data['y'].value_counts()"
      ],
      "metadata": {
        "id": "isur4YL6m8AH",
        "colab": {
          "base_uri": "https://localhost:8080/"
        },
        "outputId": "c2053155-56ab-4ba1-e26b-1d86cf197475"
      },
      "execution_count": null,
      "outputs": [
        {
          "output_type": "execute_result",
          "data": {
            "text/plain": [
              "0    9200\n",
              "1    2300\n",
              "Name: y, dtype: int64"
            ]
          },
          "metadata": {},
          "execution_count": 53
        }
      ]
    },
    {
      "cell_type": "code",
      "source": [
        "plt.figure(figsize=(8,4.5))\n",
        "sns.countplot(data['y'],hue_order='y',palette='GnBu')\n",
        "plt.show()"
      ],
      "metadata": {
        "id": "_P4YadA1nPlu",
        "colab": {
          "base_uri": "https://localhost:8080/",
          "height": 362
        },
        "outputId": "bd582c99-a4f9-4a1f-8c46-b32887bb1937"
      },
      "execution_count": null,
      "outputs": [
        {
          "output_type": "stream",
          "name": "stderr",
          "text": [
            "/usr/local/lib/python3.7/dist-packages/seaborn/_decorators.py:43: FutureWarning: Pass the following variable as a keyword arg: x. From version 0.12, the only valid positional argument will be `data`, and passing other arguments without an explicit keyword will result in an error or misinterpretation.\n",
            "  FutureWarning\n"
          ]
        },
        {
          "output_type": "display_data",
          "data": {
            "text/plain": [
              "<Figure size 576x324 with 1 Axes>"
            ],
            "image/png": "[encoded data removed]"
          },
          "metadata": {
            "needs_background": "light"
          }
        }
      ]
    },
    {
      "cell_type": "code",
      "source": [
        "data = data.drop('Unnamed',axis=1)\n",
        "data.head()"
      ],
      "metadata": {
        "id": "d92oVfjinkNJ",
        "colab": {
          "base_uri": "https://localhost:8080/",
          "height": 235
        },
        "outputId": "9848dd18-8005-4089-a2ff-198915c9d3bf"
      },
      "execution_count": null,
      "outputs": [
        {
          "output_type": "execute_result",
          "data": {
            "text/plain": [
              "    X1   X2   X3   X4   X5   X6   X7   X8   X9  X10  ...  X170  X171  X172  \\\n",
              "0  135  190  229  223  192  125   55   -9  -33  -38  ...   -17   -15   -31   \n",
              "1  386  382  356  331  320  315  307  272  244  232  ...   164   150   146   \n",
              "2  -32  -39  -47  -37  -32  -36  -57  -73  -85  -94  ...    57    64    48   \n",
              "3 -105 -101  -96  -92  -89  -95 -102 -100  -87  -79  ...   -82   -81   -80   \n",
              "4   -9  -65  -98 -102  -78  -48  -16    0  -21  -59  ...     4     2   -12   \n",
              "\n",
              "   X173  X174  X175  X176  X177  X178  y  \n",
              "0   -77  -103  -127  -116   -83   -51  0  \n",
              "1   152   157   156   154   143   129  1  \n",
              "2    19   -12   -30   -35   -35   -36  0  \n",
              "3   -77   -85   -77   -72   -69   -65  0  \n",
              "4   -32   -41   -65   -83   -89   -73  0  \n",
              "\n",
              "[5 rows x 179 columns]"
            ],
            "text/html": [
              "\n",
              "  <div id=\"df-310136b3-e714-406c-bf52-bc3f82b0e706\">\n",
              "    <div class=\"colab-df-container\">\n",
              "      <div>\n",
              "<style scoped>\n",
              "    .dataframe tbody tr th:only-of-type {\n",
              "        vertical-align: middle;\n",
              "    }\n",
              "\n",
              "    .dataframe tbody tr th {\n",
              "        vertical-align: top;\n",
              "    }\n",
              "\n",
              "    .dataframe thead th {\n",
              "        text-align: right;\n",
              "    }\n",
              "</style>\n",
              "<table border=\"1\" class=\"dataframe\">\n",
              "  <thead>\n",
              "    <tr style=\"text-align: right;\">\n",
              "      <th></th>\n",
              "      <th>X1</th>\n",
              "      <th>X2</th>\n",
              "      <th>X3</th>\n",
              "      <th>X4</th>\n",
              "      <th>X5</th>\n",
              "      <th>X6</th>\n",
              "      <th>X7</th>\n",
              "      <th>X8</th>\n",
              "      <th>X9</th>\n",
              "      <th>X10</th>\n",
              "      <th>...</th>\n",
              "      <th>X170</th>\n",
              "      <th>X171</th>\n",
              "      <th>X172</th>\n",
              "      <th>X173</th>\n",
              "      <th>X174</th>\n",
              "      <th>X175</th>\n",
              "      <th>X176</th>\n",
              "      <th>X177</th>\n",
              "      <th>X178</th>\n",
              "      <th>y</th>\n",
              "    </tr>\n",
              "  </thead>\n",
              "  <tbody>\n",
              "    <tr>\n",
              "      <th>0</th>\n",
              "      <td>135</td>\n",
              "      <td>190</td>\n",
              "      <td>229</td>\n",
              "      <td>223</td>\n",
              "      <td>192</td>\n",
              "      <td>125</td>\n",
              "      <td>55</td>\n",
              "      <td>-9</td>\n",
              "      <td>-33</td>\n",
              "      <td>-38</td>\n",
              "      <td>...</td>\n",
              "      <td>-17</td>\n",
              "      <td>-15</td>\n",
              "      <td>-31</td>\n",
              "      <td>-77</td>\n",
              "      <td>-103</td>\n",
              "      <td>-127</td>\n",
              "      <td>-116</td>\n",
              "      <td>-83</td>\n",
              "      <td>-51</td>\n",
              "      <td>0</td>\n",
              "    </tr>\n",
              "    <tr>\n",
              "      <th>1</th>\n",
              "      <td>386</td>\n",
              "      <td>382</td>\n",
              "      <td>356</td>\n",
              "      <td>331</td>\n",
              "      <td>320</td>\n",
              "      <td>315</td>\n",
              "      <td>307</td>\n",
              "      <td>272</td>\n",
              "      <td>244</td>\n",
              "      <td>232</td>\n",
              "      <td>...</td>\n",
              "      <td>164</td>\n",
              "      <td>150</td>\n",
              "      <td>146</td>\n",
              "      <td>152</td>\n",
              "      <td>157</td>\n",
              "      <td>156</td>\n",
              "      <td>154</td>\n",
              "      <td>143</td>\n",
              "      <td>129</td>\n",
              "      <td>1</td>\n",
              "    </tr>\n",
              "    <tr>\n",
              "      <th>2</th>\n",
              "      <td>-32</td>\n",
              "      <td>-39</td>\n",
              "      <td>-47</td>\n",
              "      <td>-37</td>\n",
              "      <td>-32</td>\n",
              "      <td>-36</td>\n",
              "      <td>-57</td>\n",
              "      <td>-73</td>\n",
              "      <td>-85</td>\n",
              "      <td>-94</td>\n",
              "      <td>...</td>\n",
              "      <td>57</td>\n",
              "      <td>64</td>\n",
              "      <td>48</td>\n",
              "      <td>19</td>\n",
              "      <td>-12</td>\n",
              "      <td>-30</td>\n",
              "      <td>-35</td>\n",
              "      <td>-35</td>\n",
              "      <td>-36</td>\n",
              "      <td>0</td>\n",
              "    </tr>\n",
              "    <tr>\n",
              "      <th>3</th>\n",
              "      <td>-105</td>\n",
              "      <td>-101</td>\n",
              "      <td>-96</td>\n",
              "      <td>-92</td>\n",
              "      <td>-89</td>\n",
              "      <td>-95</td>\n",
              "      <td>-102</td>\n",
              "      <td>-100</td>\n",
              "      <td>-87</td>\n",
              "      <td>-79</td>\n",
              "      <td>...</td>\n",
              "      <td>-82</td>\n",
              "      <td>-81</td>\n",
              "      <td>-80</td>\n",
              "      <td>-77</td>\n",
              "      <td>-85</td>\n",
              "      <td>-77</td>\n",
              "      <td>-72</td>\n",
              "      <td>-69</td>\n",
              "      <td>-65</td>\n",
              "      <td>0</td>\n",
              "    </tr>\n",
              "    <tr>\n",
              "      <th>4</th>\n",
              "      <td>-9</td>\n",
              "      <td>-65</td>\n",
              "      <td>-98</td>\n",
              "      <td>-102</td>\n",
              "      <td>-78</td>\n",
              "      <td>-48</td>\n",
              "      <td>-16</td>\n",
              "      <td>0</td>\n",
              "      <td>-21</td>\n",
              "      <td>-59</td>\n",
              "      <td>...</td>\n",
              "      <td>4</td>\n",
              "      <td>2</td>\n",
              "      <td>-12</td>\n",
              "      <td>-32</td>\n",
              "      <td>-41</td>\n",
              "      <td>-65</td>\n",
              "      <td>-83</td>\n",
              "      <td>-89</td>\n",
              "      <td>-73</td>\n",
              "      <td>0</td>\n",
              "    </tr>\n",
              "  </tbody>\n",
              "</table>\n",
              "<p>5 rows × 179 columns</p>\n",
              "</div>\n",
              "      <button class=\"colab-df-convert\" onclick=\"convertToInteractive('df-310136b3-e714-406c-bf52-bc3f82b0e706')\"\n",
              "              title=\"Convert this dataframe to an interactive table.\"\n",
              "              style=\"display:none;\">\n",
              "        \n",
              "  <svg xmlns=\"http://www.w3.org/2000/svg\" height=\"24px\"viewBox=\"0 0 24 24\"\n",
              "       width=\"24px\">\n",
              "    <path d=\"M0 0h24v24H0V0z\" fill=\"none\"/>\n",
              "    <path d=\"M18.56 5.44l.94 2.06.94-2.06 2.06-.94-2.06-.94-.94-2.06-.94 2.06-2.06.94zm-11 1L8.5 8.5l.94-2.06 2.06-.94-2.06-.94L8.5 2.5l-.94 2.06-2.06.94zm10 10l.94 2.06.94-2.06 2.06-.94-2.06-.94-.94-2.06-.94 2.06-2.06.94z\"/><path d=\"M17.41 7.96l-1.37-1.37c-.4-.4-.92-.59-1.43-.59-.52 0-1.04.2-1.43.59L10.3 9.45l-7.72 7.72c-.78.78-.78 2.05 0 2.83L4 21.41c.39.39.9.59 1.41.59.51 0 1.02-.2 1.41-.59l7.78-7.78 2.81-2.81c.8-.78.8-2.07 0-2.86zM5.41 20L4 18.59l7.72-7.72 1.47 1.35L5.41 20z\"/>\n",
              "  </svg>\n",
              "      </button>\n",
              "      \n",
              "  <style>\n",
              "    .colab-df-container {\n",
              "      display:flex;\n",
              "      flex-wrap:wrap;\n",
              "      gap: 12px;\n",
              "    }\n",
              "\n",
              "    .colab-df-convert {\n",
              "      background-color: #E8F0FE;\n",
              "      border: none;\n",
              "      border-radius: 50%;\n",
              "      cursor: pointer;\n",
              "      display: none;\n",
              "      fill: #1967D2;\n",
              "      height: 32px;\n",
              "      padding: 0 0 0 0;\n",
              "      width: 32px;\n",
              "    }\n",
              "\n",
              "    .colab-df-convert:hover {\n",
              "      background-color: #E2EBFA;\n",
              "      box-shadow: 0px 1px 2px rgba(60, 64, 67, 0.3), 0px 1px 3px 1px rgba(60, 64, 67, 0.15);\n",
              "      fill: #174EA6;\n",
              "    }\n",
              "\n",
              "    [theme=dark] .colab-df-convert {\n",
              "      background-color: #3B4455;\n",
              "      fill: #D2E3FC;\n",
              "    }\n",
              "\n",
              "    [theme=dark] .colab-df-convert:hover {\n",
              "      background-color: #434B5C;\n",
              "      box-shadow: 0px 1px 3px 1px rgba(0, 0, 0, 0.15);\n",
              "      filter: drop-shadow(0px 1px 2px rgba(0, 0, 0, 0.3));\n",
              "      fill: #FFFFFF;\n",
              "    }\n",
              "  </style>\n",
              "\n",
              "      <script>\n",
              "        const buttonEl =\n",
              "          document.querySelector('#df-310136b3-e714-406c-bf52-bc3f82b0e706 button.colab-df-convert');\n",
              "        buttonEl.style.display =\n",
              "          google.colab.kernel.accessAllowed ? 'block' : 'none';\n",
              "\n",
              "        async function convertToInteractive(key) {\n",
              "          const element = document.querySelector('#df-310136b3-e714-406c-bf52-bc3f82b0e706');\n",
              "          const dataTable =\n",
              "            await google.colab.kernel.invokeFunction('convertToInteractive',\n",
              "                                                     [key], {});\n",
              "          if (!dataTable) return;\n",
              "\n",
              "          const docLinkHtml = 'Like what you see? Visit the ' +\n",
              "            '<a target=\"_blank\" href=https://colab.research.google.com/notebooks/data_table.ipynb>data table notebook</a>'\n",
              "            + ' to learn more about interactive tables.';\n",
              "          element.innerHTML = '';\n",
              "          dataTable['output_type'] = 'display_data';\n",
              "          await google.colab.output.renderOutput(dataTable, element);\n",
              "          const docLink = document.createElement('div');\n",
              "          docLink.innerHTML = docLinkHtml;\n",
              "          element.appendChild(docLink);\n",
              "        }\n",
              "      </script>\n",
              "    </div>\n",
              "  </div>\n",
              "  "
            ]
          },
          "metadata": {},
          "execution_count": 55
        }
      ]
    },
    {
      "cell_type": "code",
      "source": [
        "# Missing values\n",
        "data.isnull().sum()"
      ],
      "metadata": {
        "id": "X1f7Wu3nn6xX",
        "colab": {
          "base_uri": "https://localhost:8080/"
        },
        "outputId": "2bcfbc3a-5f40-4e6d-9498-0ee5f70f4211"
      },
      "execution_count": null,
      "outputs": [
        {
          "output_type": "execute_result",
          "data": {
            "text/plain": [
              "X1      0\n",
              "X2      0\n",
              "X3      0\n",
              "X4      0\n",
              "X5      0\n",
              "       ..\n",
              "X175    0\n",
              "X176    0\n",
              "X177    0\n",
              "X178    0\n",
              "y       0\n",
              "Length: 179, dtype: int64"
            ]
          },
          "metadata": {},
          "execution_count": 56
        }
      ]
    },
    {
      "cell_type": "markdown",
      "source": [
        "### So, there is no missing values"
      ],
      "metadata": {
        "id": "8iGsNxbNoL_x"
      }
    },
    {
      "cell_type": "markdown",
      "source": [
        "### Data splitting"
      ],
      "metadata": {
        "id": "2_3C-nFt6Mp8"
      }
    },
    {
      "cell_type": "code",
      "source": [
        "X = data.drop('y', axis=1)\n",
        "y = data['y']"
      ],
      "metadata": {
        "id": "cWin3mnx6VQN"
      },
      "execution_count": null,
      "outputs": []
    },
    {
      "cell_type": "code",
      "source": [
        "X_train, X_test, y_train, y_test = train_test_split(X, y, test_size=0.2, random_state=111)"
      ],
      "metadata": {
        "id": "5jYeZWCX5mUT"
      },
      "execution_count": null,
      "outputs": []
    },
    {
      "cell_type": "code",
      "source": [
        "X_train"
      ],
      "metadata": {
        "colab": {
          "base_uri": "https://localhost:8080/",
          "height": 423
        },
        "id": "wRWXbYaqtc3P",
        "outputId": "752e9eb2-7b82-4efc-8ea9-5d649d5ea971"
      },
      "execution_count": null,
      "outputs": [
        {
          "output_type": "execute_result",
          "data": {
            "text/plain": [
              "        X1   X2   X3   X4    X5    X6   X7   X8   X9  X10  ...  X169  X170  \\\n",
              "10131   -5   32   32   -2   -59  -146 -180 -164  -80   79  ...   330   329   \n",
              "11133 -141 -253 -553 -952 -1184 -1045 -560  -16  379  633  ...     6  -208   \n",
              "1258    29   56   83   81    72    51   41   41   60   63  ...   123   105   \n",
              "4217    24   31   44   66    97   129  153  143  102   60  ...    41    59   \n",
              "9135    50   47   27   11     1   -11  -45  -62  -73  -79  ...   -52   -49   \n",
              "...    ...  ...  ...  ...   ...   ...  ...  ...  ...  ...  ...   ...   ...   \n",
              "8873   -67  -66  -72  -65   -48   -35  -22   -1    5   20  ...   -91  -103   \n",
              "7443   -75 -101 -125 -139  -131   -99  -61  -46  -34  -22  ...   -64   -62   \n",
              "4182   -92 -106 -108 -108  -100   -96  -97 -103 -115 -137  ...   233   421   \n",
              "4820    56   20  -31  -82  -122  -134 -122  -87  -44  -19  ...    58   -20   \n",
              "10196   15   17    7    1    -3    -2   10   17   14   13  ...     0     3   \n",
              "\n",
              "       X171  X172  X173  X174  X175  X176  X177  X178  \n",
              "10131   317   299   281   277   274   269   270   275  \n",
              "11133  -524  -981 -1334 -1438 -1178  -720  -219   187  \n",
              "1258    102   106   113   109   107   122   113   112  \n",
              "4217     62    42     3   -36   -81   -95   -80   -50  \n",
              "9135    -31     1    45    68    81    63    46    37  \n",
              "...     ...   ...   ...   ...   ...   ...   ...   ...  \n",
              "8873   -118  -134  -153  -166  -159  -147  -121  -144  \n",
              "7443    -56   -44   -22    -9    -8   -30   -47   -65  \n",
              "4182    434   403   366   312   240   160    87    24  \n",
              "4820   -107  -175  -210  -206  -153   -77    17   108  \n",
              "10196    -5   -21   -38   -40   -38   -42   -41   -50  \n",
              "\n",
              "[9200 rows x 178 columns]"
            ],
            "text/html": [
              "\n",
              "  <div id=\"df-91474211-2dd1-40a5-81bf-fc1f3276db43\">\n",
              "    <div class=\"colab-df-container\">\n",
              "      <div>\n",
              "<style scoped>\n",
              "    .dataframe tbody tr th:only-of-type {\n",
              "        vertical-align: middle;\n",
              "    }\n",
              "\n",
              "    .dataframe tbody tr th {\n",
              "        vertical-align: top;\n",
              "    }\n",
              "\n",
              "    .dataframe thead th {\n",
              "        text-align: right;\n",
              "    }\n",
              "</style>\n",
              "<table border=\"1\" class=\"dataframe\">\n",
              "  <thead>\n",
              "    <tr style=\"text-align: right;\">\n",
              "      <th></th>\n",
              "      <th>X1</th>\n",
              "      <th>X2</th>\n",
              "      <th>X3</th>\n",
              "      <th>X4</th>\n",
              "      <th>X5</th>\n",
              "      <th>X6</th>\n",
              "      <th>X7</th>\n",
              "      <th>X8</th>\n",
              "      <th>X9</th>\n",
              "      <th>X10</th>\n",
              "      <th>...</th>\n",
              "      <th>X169</th>\n",
              "      <th>X170</th>\n",
              "      <th>X171</th>\n",
              "      <th>X172</th>\n",
              "      <th>X173</th>\n",
              "      <th>X174</th>\n",
              "      <th>X175</th>\n",
              "      <th>X176</th>\n",
              "      <th>X177</th>\n",
              "      <th>X178</th>\n",
              "    </tr>\n",
              "  </thead>\n",
              "  <tbody>\n",
              "    <tr>\n",
              "      <th>10131</th>\n",
              "      <td>-5</td>\n",
              "      <td>32</td>\n",
              "      <td>32</td>\n",
              "      <td>-2</td>\n",
              "      <td>-59</td>\n",
              "      <td>-146</td>\n",
              "      <td>-180</td>\n",
              "      <td>-164</td>\n",
              "      <td>-80</td>\n",
              "      <td>79</td>\n",
              "      <td>...</td>\n",
              "      <td>330</td>\n",
              "      <td>329</td>\n",
              "      <td>317</td>\n",
              "      <td>299</td>\n",
              "      <td>281</td>\n",
              "      <td>277</td>\n",
              "      <td>274</td>\n",
              "      <td>269</td>\n",
              "      <td>270</td>\n",
              "      <td>275</td>\n",
              "    </tr>\n",
              "    <tr>\n",
              "      <th>11133</th>\n",
              "      <td>-141</td>\n",
              "      <td>-253</td>\n",
              "      <td>-553</td>\n",
              "      <td>-952</td>\n",
              "      <td>-1184</td>\n",
              "      <td>-1045</td>\n",
              "      <td>-560</td>\n",
              "      <td>-16</td>\n",
              "      <td>379</td>\n",
              "      <td>633</td>\n",
              "      <td>...</td>\n",
              "      <td>6</td>\n",
              "      <td>-208</td>\n",
              "      <td>-524</td>\n",
              "      <td>-981</td>\n",
              "      <td>-1334</td>\n",
              "      <td>-1438</td>\n",
              "      <td>-1178</td>\n",
              "      <td>-720</td>\n",
              "      <td>-219</td>\n",
              "      <td>187</td>\n",
              "    </tr>\n",
              "    <tr>\n",
              "      <th>1258</th>\n",
              "      <td>29</td>\n",
              "      <td>56</td>\n",
              "      <td>83</td>\n",
              "      <td>81</td>\n",
              "      <td>72</td>\n",
              "      <td>51</td>\n",
              "      <td>41</td>\n",
              "      <td>41</td>\n",
              "      <td>60</td>\n",
              "      <td>63</td>\n",
              "      <td>...</td>\n",
              "      <td>123</td>\n",
              "      <td>105</td>\n",
              "      <td>102</td>\n",
              "      <td>106</td>\n",
              "      <td>113</td>\n",
              "      <td>109</td>\n",
              "      <td>107</td>\n",
              "      <td>122</td>\n",
              "      <td>113</td>\n",
              "      <td>112</td>\n",
              "    </tr>\n",
              "    <tr>\n",
              "      <th>4217</th>\n",
              "      <td>24</td>\n",
              "      <td>31</td>\n",
              "      <td>44</td>\n",
              "      <td>66</td>\n",
              "      <td>97</td>\n",
              "      <td>129</td>\n",
              "      <td>153</td>\n",
              "      <td>143</td>\n",
              "      <td>102</td>\n",
              "      <td>60</td>\n",
              "      <td>...</td>\n",
              "      <td>41</td>\n",
              "      <td>59</td>\n",
              "      <td>62</td>\n",
              "      <td>42</td>\n",
              "      <td>3</td>\n",
              "      <td>-36</td>\n",
              "      <td>-81</td>\n",
              "      <td>-95</td>\n",
              "      <td>-80</td>\n",
              "      <td>-50</td>\n",
              "    </tr>\n",
              "    <tr>\n",
              "      <th>9135</th>\n",
              "      <td>50</td>\n",
              "      <td>47</td>\n",
              "      <td>27</td>\n",
              "      <td>11</td>\n",
              "      <td>1</td>\n",
              "      <td>-11</td>\n",
              "      <td>-45</td>\n",
              "      <td>-62</td>\n",
              "      <td>-73</td>\n",
              "      <td>-79</td>\n",
              "      <td>...</td>\n",
              "      <td>-52</td>\n",
              "      <td>-49</td>\n",
              "      <td>-31</td>\n",
              "      <td>1</td>\n",
              "      <td>45</td>\n",
              "      <td>68</td>\n",
              "      <td>81</td>\n",
              "      <td>63</td>\n",
              "      <td>46</td>\n",
              "      <td>37</td>\n",
              "    </tr>\n",
              "    <tr>\n",
              "      <th>...</th>\n",
              "      <td>...</td>\n",
              "      <td>...</td>\n",
              "      <td>...</td>\n",
              "      <td>...</td>\n",
              "      <td>...</td>\n",
              "      <td>...</td>\n",
              "      <td>...</td>\n",
              "      <td>...</td>\n",
              "      <td>...</td>\n",
              "      <td>...</td>\n",
              "      <td>...</td>\n",
              "      <td>...</td>\n",
              "      <td>...</td>\n",
              "      <td>...</td>\n",
              "      <td>...</td>\n",
              "      <td>...</td>\n",
              "      <td>...</td>\n",
              "      <td>...</td>\n",
              "      <td>...</td>\n",
              "      <td>...</td>\n",
              "      <td>...</td>\n",
              "    </tr>\n",
              "    <tr>\n",
              "      <th>8873</th>\n",
              "      <td>-67</td>\n",
              "      <td>-66</td>\n",
              "      <td>-72</td>\n",
              "      <td>-65</td>\n",
              "      <td>-48</td>\n",
              "      <td>-35</td>\n",
              "      <td>-22</td>\n",
              "      <td>-1</td>\n",
              "      <td>5</td>\n",
              "      <td>20</td>\n",
              "      <td>...</td>\n",
              "      <td>-91</td>\n",
              "      <td>-103</td>\n",
              "      <td>-118</td>\n",
              "      <td>-134</td>\n",
              "      <td>-153</td>\n",
              "      <td>-166</td>\n",
              "      <td>-159</td>\n",
              "      <td>-147</td>\n",
              "      <td>-121</td>\n",
              "      <td>-144</td>\n",
              "    </tr>\n",
              "    <tr>\n",
              "      <th>7443</th>\n",
              "      <td>-75</td>\n",
              "      <td>-101</td>\n",
              "      <td>-125</td>\n",
              "      <td>-139</td>\n",
              "      <td>-131</td>\n",
              "      <td>-99</td>\n",
              "      <td>-61</td>\n",
              "      <td>-46</td>\n",
              "      <td>-34</td>\n",
              "      <td>-22</td>\n",
              "      <td>...</td>\n",
              "      <td>-64</td>\n",
              "      <td>-62</td>\n",
              "      <td>-56</td>\n",
              "      <td>-44</td>\n",
              "      <td>-22</td>\n",
              "      <td>-9</td>\n",
              "      <td>-8</td>\n",
              "      <td>-30</td>\n",
              "      <td>-47</td>\n",
              "      <td>-65</td>\n",
              "    </tr>\n",
              "    <tr>\n",
              "      <th>4182</th>\n",
              "      <td>-92</td>\n",
              "      <td>-106</td>\n",
              "      <td>-108</td>\n",
              "      <td>-108</td>\n",
              "      <td>-100</td>\n",
              "      <td>-96</td>\n",
              "      <td>-97</td>\n",
              "      <td>-103</td>\n",
              "      <td>-115</td>\n",
              "      <td>-137</td>\n",
              "      <td>...</td>\n",
              "      <td>233</td>\n",
              "      <td>421</td>\n",
              "      <td>434</td>\n",
              "      <td>403</td>\n",
              "      <td>366</td>\n",
              "      <td>312</td>\n",
              "      <td>240</td>\n",
              "      <td>160</td>\n",
              "      <td>87</td>\n",
              "      <td>24</td>\n",
              "    </tr>\n",
              "    <tr>\n",
              "      <th>4820</th>\n",
              "      <td>56</td>\n",
              "      <td>20</td>\n",
              "      <td>-31</td>\n",
              "      <td>-82</td>\n",
              "      <td>-122</td>\n",
              "      <td>-134</td>\n",
              "      <td>-122</td>\n",
              "      <td>-87</td>\n",
              "      <td>-44</td>\n",
              "      <td>-19</td>\n",
              "      <td>...</td>\n",
              "      <td>58</td>\n",
              "      <td>-20</td>\n",
              "      <td>-107</td>\n",
              "      <td>-175</td>\n",
              "      <td>-210</td>\n",
              "      <td>-206</td>\n",
              "      <td>-153</td>\n",
              "      <td>-77</td>\n",
              "      <td>17</td>\n",
              "      <td>108</td>\n",
              "    </tr>\n",
              "    <tr>\n",
              "      <th>10196</th>\n",
              "      <td>15</td>\n",
              "      <td>17</td>\n",
              "      <td>7</td>\n",
              "      <td>1</td>\n",
              "      <td>-3</td>\n",
              "      <td>-2</td>\n",
              "      <td>10</td>\n",
              "      <td>17</td>\n",
              "      <td>14</td>\n",
              "      <td>13</td>\n",
              "      <td>...</td>\n",
              "      <td>0</td>\n",
              "      <td>3</td>\n",
              "      <td>-5</td>\n",
              "      <td>-21</td>\n",
              "      <td>-38</td>\n",
              "      <td>-40</td>\n",
              "      <td>-38</td>\n",
              "      <td>-42</td>\n",
              "      <td>-41</td>\n",
              "      <td>-50</td>\n",
              "    </tr>\n",
              "  </tbody>\n",
              "</table>\n",
              "<p>9200 rows × 178 columns</p>\n",
              "</div>\n",
              "      <button class=\"colab-df-convert\" onclick=\"convertToInteractive('df-91474211-2dd1-40a5-81bf-fc1f3276db43')\"\n",
              "              title=\"Convert this dataframe to an interactive table.\"\n",
              "              style=\"display:none;\">\n",
              "        \n",
              "  <svg xmlns=\"http://www.w3.org/2000/svg\" height=\"24px\"viewBox=\"0 0 24 24\"\n",
              "       width=\"24px\">\n",
              "    <path d=\"M0 0h24v24H0V0z\" fill=\"none\"/>\n",
              "    <path d=\"M18.56 5.44l.94 2.06.94-2.06 2.06-.94-2.06-.94-.94-2.06-.94 2.06-2.06.94zm-11 1L8.5 8.5l.94-2.06 2.06-.94-2.06-.94L8.5 2.5l-.94 2.06-2.06.94zm10 10l.94 2.06.94-2.06 2.06-.94-2.06-.94-.94-2.06-.94 2.06-2.06.94z\"/><path d=\"M17.41 7.96l-1.37-1.37c-.4-.4-.92-.59-1.43-.59-.52 0-1.04.2-1.43.59L10.3 9.45l-7.72 7.72c-.78.78-.78 2.05 0 2.83L4 21.41c.39.39.9.59 1.41.59.51 0 1.02-.2 1.41-.59l7.78-7.78 2.81-2.81c.8-.78.8-2.07 0-2.86zM5.41 20L4 18.59l7.72-7.72 1.47 1.35L5.41 20z\"/>\n",
              "  </svg>\n",
              "      </button>\n",
              "      \n",
              "  <style>\n",
              "    .colab-df-container {\n",
              "      display:flex;\n",
              "      flex-wrap:wrap;\n",
              "      gap: 12px;\n",
              "    }\n",
              "\n",
              "    .colab-df-convert {\n",
              "      background-color: #E8F0FE;\n",
              "      border: none;\n",
              "      border-radius: 50%;\n",
              "      cursor: pointer;\n",
              "      display: none;\n",
              "      fill: #1967D2;\n",
              "      height: 32px;\n",
              "      padding: 0 0 0 0;\n",
              "      width: 32px;\n",
              "    }\n",
              "\n",
              "    .colab-df-convert:hover {\n",
              "      background-color: #E2EBFA;\n",
              "      box-shadow: 0px 1px 2px rgba(60, 64, 67, 0.3), 0px 1px 3px 1px rgba(60, 64, 67, 0.15);\n",
              "      fill: #174EA6;\n",
              "    }\n",
              "\n",
              "    [theme=dark] .colab-df-convert {\n",
              "      background-color: #3B4455;\n",
              "      fill: #D2E3FC;\n",
              "    }\n",
              "\n",
              "    [theme=dark] .colab-df-convert:hover {\n",
              "      background-color: #434B5C;\n",
              "      box-shadow: 0px 1px 3px 1px rgba(0, 0, 0, 0.15);\n",
              "      filter: drop-shadow(0px 1px 2px rgba(0, 0, 0, 0.3));\n",
              "      fill: #FFFFFF;\n",
              "    }\n",
              "  </style>\n",
              "\n",
              "      <script>\n",
              "        const buttonEl =\n",
              "          document.querySelector('#df-91474211-2dd1-40a5-81bf-fc1f3276db43 button.colab-df-convert');\n",
              "        buttonEl.style.display =\n",
              "          google.colab.kernel.accessAllowed ? 'block' : 'none';\n",
              "\n",
              "        async function convertToInteractive(key) {\n",
              "          const element = document.querySelector('#df-91474211-2dd1-40a5-81bf-fc1f3276db43');\n",
              "          const dataTable =\n",
              "            await google.colab.kernel.invokeFunction('convertToInteractive',\n",
              "                                                     [key], {});\n",
              "          if (!dataTable) return;\n",
              "\n",
              "          const docLinkHtml = 'Like what you see? Visit the ' +\n",
              "            '<a target=\"_blank\" href=https://colab.research.google.com/notebooks/data_table.ipynb>data table notebook</a>'\n",
              "            + ' to learn more about interactive tables.';\n",
              "          element.innerHTML = '';\n",
              "          dataTable['output_type'] = 'display_data';\n",
              "          await google.colab.output.renderOutput(dataTable, element);\n",
              "          const docLink = document.createElement('div');\n",
              "          docLink.innerHTML = docLinkHtml;\n",
              "          element.appendChild(docLink);\n",
              "        }\n",
              "      </script>\n",
              "    </div>\n",
              "  </div>\n",
              "  "
            ]
          },
          "metadata": {},
          "execution_count": 59
        }
      ]
    },
    {
      "cell_type": "code",
      "source": [
        "from sklearn.decomposition import PCA\n",
        "pca_f = PCA(n_components=0.97,svd_solver=\"full\")\n",
        "pca_f = pca_f.fit(X_train)\n",
        "X_train_f = pca_f.transform(X_train)\n",
        "components = X_train_f.shape[1]\n",
        "components"
      ],
      "metadata": {
        "id": "N6yHGU1PukUH",
        "colab": {
          "base_uri": "https://localhost:8080/"
        },
        "outputId": "152f3735-7433-446a-8ec9-17f3830ba337"
      },
      "execution_count": null,
      "outputs": [
        {
          "output_type": "execute_result",
          "data": {
            "text/plain": [
              "43"
            ]
          },
          "metadata": {},
          "execution_count": 60
        }
      ]
    },
    {
      "cell_type": "code",
      "source": [
        "pca = PCA()\n",
        "pca = pca.fit(X_train)\n",
        "newX_train = pca.transform(X_train)     #等价于pca.fit(X) pca.transform(X)"
      ],
      "metadata": {
        "id": "0M2u9eYqBDxc"
      },
      "execution_count": null,
      "outputs": []
    },
    {
      "cell_type": "code",
      "source": [
        "plt.figure(figsize=(13,8))\n",
        "list_xticks = list(range(1,179))\n",
        "list_xticks2 = list(range(1,179,5))\n",
        "plt.plot(list_xticks, np.cumsum(pca.explained_variance_ratio_), label='cumulative explained variance')\n",
        "plt.xticks(list_xticks2) #这是为了限制坐标轴显示为整数\n",
        "plt.plot(components, pca_f.explained_variance_ratio_.sum(), 'o', label='components')\n",
        "plt.xlabel(\"number of components after dimension reduction\")\n",
        "plt.ylabel(\"cumulative explained variance ratio\")\n",
        "plt.legend()\n",
        "plt.show()"
      ],
      "metadata": {
        "colab": {
          "base_uri": "https://localhost:8080/",
          "height": 497
        },
        "id": "gz9vuEeR5_fp",
        "outputId": "17605df6-285a-4979-81ef-46e333ee1439"
      },
      "execution_count": null,
      "outputs": [
        {
          "output_type": "display_data",
          "data": {
            "text/plain": [
              "<Figure size 936x576 with 1 Axes>"
            ],
            "image/png": "[encoded data removed]"
          },
          "metadata": {
            "needs_background": "light"
          }
        }
      ]
    },
    {
      "cell_type": "code",
      "source": [
        "pca_final = PCA(n_components=components)\n",
        "pca_final = pca_final.fit(X_train)\n",
        "X_train = pca_final.transform(X_train)\n",
        "X_test = pca_final.transform(X_test)"
      ],
      "metadata": {
        "id": "7AQ5HqDRCVQJ"
      },
      "execution_count": null,
      "outputs": []
    },
    {
      "cell_type": "code",
      "source": [
        "X_train = pd.DataFrame(X_train)\n",
        "X_test = pd.DataFrame(X_test)\n",
        "X_train"
      ],
      "metadata": {
        "colab": {
          "base_uri": "https://localhost:8080/",
          "height": 487
        },
        "id": "_8vQQ0CmDrZT",
        "outputId": "cf234239-a672-4cd9-d9cf-74a1cc3af7fa"
      },
      "execution_count": null,
      "outputs": [
        {
          "output_type": "execute_result",
          "data": {
            "text/plain": [
              "              0           1            2            3            4   \\\n",
              "0    -465.997780  -91.773558   -89.454208   914.661838   519.819724   \n",
              "1     -25.227998  910.413401 -1290.080026  -418.990525 -1788.568491   \n",
              "2      -3.653217  -11.274853    18.052956   108.499451   227.444752   \n",
              "3     -15.989260  -20.168107    21.900911   -56.129033    41.302880   \n",
              "4    -144.937308  -60.401571    -0.968282  -143.034417   149.517496   \n",
              "...          ...         ...          ...          ...          ...   \n",
              "9195  291.122200  457.911268  -249.862951  -348.339741  -194.061778   \n",
              "9196 -153.645710 -104.687864   151.179858   -38.258534  -159.222495   \n",
              "9197 -717.994047  101.399069    73.997052  1057.365094 -1794.092500   \n",
              "9198  171.150694   -2.147341  -107.726293   -46.303815   -11.592133   \n",
              "9199   -9.333548   19.930298    68.734693   -13.212596   -32.455701   \n",
              "\n",
              "               5            6            7           8            9   ...  \\\n",
              "0      -19.728427   265.022317  1240.354770  713.598950  -456.337836  ...   \n",
              "1     3619.358541 -2428.276529  1408.020065 -749.711551 -2014.429925  ...   \n",
              "2      289.883980   329.371467   377.195206 -198.069958   175.151693  ...   \n",
              "3      328.218671   134.559665   164.724272  -61.763626   164.073063  ...   \n",
              "4       44.131903    -1.540230   216.469155 -255.182315   153.431446  ...   \n",
              "...           ...          ...          ...         ...          ...  ...   \n",
              "9195   -62.758639   159.987451   302.613066  403.342845  -642.785946  ...   \n",
              "9196  -196.032808  -280.471668  -108.116655  171.288210   -70.465799  ...   \n",
              "9197  -558.457167  1044.712686  -731.418966 -296.491371   745.151032  ...   \n",
              "9198    13.582604  -131.367637    13.259773   47.004662   315.289928  ...   \n",
              "9199    51.470597   -24.242814   145.772925   10.143952    30.661119  ...   \n",
              "\n",
              "              33          34          35          36          37           38  \\\n",
              "0      32.199686   75.547028  -34.982466  448.589910  210.258554     4.589245   \n",
              "1     521.204420  923.627719  367.506311  918.657756  303.482860 -1171.704270   \n",
              "2     -72.622702   37.161846  -40.043558   28.165602    5.884969     5.112575   \n",
              "3      69.840753    3.595920   31.768603 -107.094522   14.988292    22.469313   \n",
              "4      52.570656   93.885620  -55.157335  -11.832935  -29.235198    50.372486   \n",
              "...          ...         ...         ...         ...         ...          ...   \n",
              "9195   69.847630 -155.064149  150.882248 -102.596573   22.186871    42.795082   \n",
              "9196   64.830859   -0.644845   68.754183   18.017167   32.912219     6.373935   \n",
              "9197 -171.924725 -605.632654  471.860292 -173.278100  344.019991  -331.346145   \n",
              "9198   64.152271   22.670532 -171.392310  177.699895   33.261921   -44.862090   \n",
              "9199    2.391470   33.729486   32.159887   10.479853  -45.607501    13.734143   \n",
              "\n",
              "              39          40          41          42  \n",
              "0     -36.720158   64.809703  -26.562898   -4.201259  \n",
              "1    -506.936077  507.199117  437.893011  361.897984  \n",
              "2      20.552755   32.997901  -25.288709   18.750013  \n",
              "3     -64.451765    0.059961    0.003586   -3.482621  \n",
              "4      41.600976  -66.813093   75.942458  -38.319473  \n",
              "...          ...         ...         ...         ...  \n",
              "9195   82.487344  176.701152 -175.938590  163.868856  \n",
              "9196   -3.374036  -50.999680   77.847523  -15.895282  \n",
              "9197 -231.785751  316.086751  -11.222177  272.023862  \n",
              "9198  -64.796438  -59.055669   -4.331993   96.430235  \n",
              "9199   13.163416   -4.299609   -8.511935   31.790474  \n",
              "\n",
              "[9200 rows x 43 columns]"
            ],
            "text/html": [
              "\n",
              "  <div id=\"df-c3ad12c5-c7ee-4f54-96d7-343a677445ce\">\n",
              "    <div class=\"colab-df-container\">\n",
              "      <div>\n",
              "<style scoped>\n",
              "    .dataframe tbody tr th:only-of-type {\n",
              "        vertical-align: middle;\n",
              "    }\n",
              "\n",
              "    .dataframe tbody tr th {\n",
              "        vertical-align: top;\n",
              "    }\n",
              "\n",
              "    .dataframe thead th {\n",
              "        text-align: right;\n",
              "    }\n",
              "</style>\n",
              "<table border=\"1\" class=\"dataframe\">\n",
              "  <thead>\n",
              "    <tr style=\"text-align: right;\">\n",
              "      <th></th>\n",
              "      <th>0</th>\n",
              "      <th>1</th>\n",
              "      <th>2</th>\n",
              "      <th>3</th>\n",
              "      <th>4</th>\n",
              "      <th>5</th>\n",
              "      <th>6</th>\n",
              "      <th>7</th>\n",
              "      <th>8</th>\n",
              "      <th>9</th>\n",
              "      <th>...</th>\n",
              "      <th>33</th>\n",
              "      <th>34</th>\n",
              "      <th>35</th>\n",
              "      <th>36</th>\n",
              "      <th>37</th>\n",
              "      <th>38</th>\n",
              "      <th>39</th>\n",
              "      <th>40</th>\n",
              "      <th>41</th>\n",
              "      <th>42</th>\n",
              "    </tr>\n",
              "  </thead>\n",
              "  <tbody>\n",
              "    <tr>\n",
              "      <th>0</th>\n",
              "      <td>-465.997780</td>\n",
              "      <td>-91.773558</td>\n",
              "      <td>-89.454208</td>\n",
              "      <td>914.661838</td>\n",
              "      <td>519.819724</td>\n",
              "      <td>-19.728427</td>\n",
              "      <td>265.022317</td>\n",
              "      <td>1240.354770</td>\n",
              "      <td>713.598950</td>\n",
              "      <td>-456.337836</td>\n",
              "      <td>...</td>\n",
              "      <td>32.199686</td>\n",
              "      <td>75.547028</td>\n",
              "      <td>-34.982466</td>\n",
              "      <td>448.589910</td>\n",
              "      <td>210.258554</td>\n",
              "      <td>4.589245</td>\n",
              "      <td>-36.720158</td>\n",
              "      <td>64.809703</td>\n",
              "      <td>-26.562898</td>\n",
              "      <td>-4.201259</td>\n",
              "    </tr>\n",
              "    <tr>\n",
              "      <th>1</th>\n",
              "      <td>-25.227998</td>\n",
              "      <td>910.413401</td>\n",
              "      <td>-1290.080026</td>\n",
              "      <td>-418.990525</td>\n",
              "      <td>-1788.568491</td>\n",
              "      <td>3619.358541</td>\n",
              "      <td>-2428.276529</td>\n",
              "      <td>1408.020065</td>\n",
              "      <td>-749.711551</td>\n",
              "      <td>-2014.429925</td>\n",
              "      <td>...</td>\n",
              "      <td>521.204420</td>\n",
              "      <td>923.627719</td>\n",
              "      <td>367.506311</td>\n",
              "      <td>918.657756</td>\n",
              "      <td>303.482860</td>\n",
              "      <td>-1171.704270</td>\n",
              "      <td>-506.936077</td>\n",
              "      <td>507.199117</td>\n",
              "      <td>437.893011</td>\n",
              "      <td>361.897984</td>\n",
              "    </tr>\n",
              "    <tr>\n",
              "      <th>2</th>\n",
              "      <td>-3.653217</td>\n",
              "      <td>-11.274853</td>\n",
              "      <td>18.052956</td>\n",
              "      <td>108.499451</td>\n",
              "      <td>227.444752</td>\n",
              "      <td>289.883980</td>\n",
              "      <td>329.371467</td>\n",
              "      <td>377.195206</td>\n",
              "      <td>-198.069958</td>\n",
              "      <td>175.151693</td>\n",
              "      <td>...</td>\n",
              "      <td>-72.622702</td>\n",
              "      <td>37.161846</td>\n",
              "      <td>-40.043558</td>\n",
              "      <td>28.165602</td>\n",
              "      <td>5.884969</td>\n",
              "      <td>5.112575</td>\n",
              "      <td>20.552755</td>\n",
              "      <td>32.997901</td>\n",
              "      <td>-25.288709</td>\n",
              "      <td>18.750013</td>\n",
              "    </tr>\n",
              "    <tr>\n",
              "      <th>3</th>\n",
              "      <td>-15.989260</td>\n",
              "      <td>-20.168107</td>\n",
              "      <td>21.900911</td>\n",
              "      <td>-56.129033</td>\n",
              "      <td>41.302880</td>\n",
              "      <td>328.218671</td>\n",
              "      <td>134.559665</td>\n",
              "      <td>164.724272</td>\n",
              "      <td>-61.763626</td>\n",
              "      <td>164.073063</td>\n",
              "      <td>...</td>\n",
              "      <td>69.840753</td>\n",
              "      <td>3.595920</td>\n",
              "      <td>31.768603</td>\n",
              "      <td>-107.094522</td>\n",
              "      <td>14.988292</td>\n",
              "      <td>22.469313</td>\n",
              "      <td>-64.451765</td>\n",
              "      <td>0.059961</td>\n",
              "      <td>0.003586</td>\n",
              "      <td>-3.482621</td>\n",
              "    </tr>\n",
              "    <tr>\n",
              "      <th>4</th>\n",
              "      <td>-144.937308</td>\n",
              "      <td>-60.401571</td>\n",
              "      <td>-0.968282</td>\n",
              "      <td>-143.034417</td>\n",
              "      <td>149.517496</td>\n",
              "      <td>44.131903</td>\n",
              "      <td>-1.540230</td>\n",
              "      <td>216.469155</td>\n",
              "      <td>-255.182315</td>\n",
              "      <td>153.431446</td>\n",
              "      <td>...</td>\n",
              "      <td>52.570656</td>\n",
              "      <td>93.885620</td>\n",
              "      <td>-55.157335</td>\n",
              "      <td>-11.832935</td>\n",
              "      <td>-29.235198</td>\n",
              "      <td>50.372486</td>\n",
              "      <td>41.600976</td>\n",
              "      <td>-66.813093</td>\n",
              "      <td>75.942458</td>\n",
              "      <td>-38.319473</td>\n",
              "    </tr>\n",
              "    <tr>\n",
              "      <th>...</th>\n",
              "      <td>...</td>\n",
              "      <td>...</td>\n",
              "      <td>...</td>\n",
              "      <td>...</td>\n",
              "      <td>...</td>\n",
              "      <td>...</td>\n",
              "      <td>...</td>\n",
              "      <td>...</td>\n",
              "      <td>...</td>\n",
              "      <td>...</td>\n",
              "      <td>...</td>\n",
              "      <td>...</td>\n",
              "      <td>...</td>\n",
              "      <td>...</td>\n",
              "      <td>...</td>\n",
              "      <td>...</td>\n",
              "      <td>...</td>\n",
              "      <td>...</td>\n",
              "      <td>...</td>\n",
              "      <td>...</td>\n",
              "      <td>...</td>\n",
              "    </tr>\n",
              "    <tr>\n",
              "      <th>9195</th>\n",
              "      <td>291.122200</td>\n",
              "      <td>457.911268</td>\n",
              "      <td>-249.862951</td>\n",
              "      <td>-348.339741</td>\n",
              "      <td>-194.061778</td>\n",
              "      <td>-62.758639</td>\n",
              "      <td>159.987451</td>\n",
              "      <td>302.613066</td>\n",
              "      <td>403.342845</td>\n",
              "      <td>-642.785946</td>\n",
              "      <td>...</td>\n",
              "      <td>69.847630</td>\n",
              "      <td>-155.064149</td>\n",
              "      <td>150.882248</td>\n",
              "      <td>-102.596573</td>\n",
              "      <td>22.186871</td>\n",
              "      <td>42.795082</td>\n",
              "      <td>82.487344</td>\n",
              "      <td>176.701152</td>\n",
              "      <td>-175.938590</td>\n",
              "      <td>163.868856</td>\n",
              "    </tr>\n",
              "    <tr>\n",
              "      <th>9196</th>\n",
              "      <td>-153.645710</td>\n",
              "      <td>-104.687864</td>\n",
              "      <td>151.179858</td>\n",
              "      <td>-38.258534</td>\n",
              "      <td>-159.222495</td>\n",
              "      <td>-196.032808</td>\n",
              "      <td>-280.471668</td>\n",
              "      <td>-108.116655</td>\n",
              "      <td>171.288210</td>\n",
              "      <td>-70.465799</td>\n",
              "      <td>...</td>\n",
              "      <td>64.830859</td>\n",
              "      <td>-0.644845</td>\n",
              "      <td>68.754183</td>\n",
              "      <td>18.017167</td>\n",
              "      <td>32.912219</td>\n",
              "      <td>6.373935</td>\n",
              "      <td>-3.374036</td>\n",
              "      <td>-50.999680</td>\n",
              "      <td>77.847523</td>\n",
              "      <td>-15.895282</td>\n",
              "    </tr>\n",
              "    <tr>\n",
              "      <th>9197</th>\n",
              "      <td>-717.994047</td>\n",
              "      <td>101.399069</td>\n",
              "      <td>73.997052</td>\n",
              "      <td>1057.365094</td>\n",
              "      <td>-1794.092500</td>\n",
              "      <td>-558.457167</td>\n",
              "      <td>1044.712686</td>\n",
              "      <td>-731.418966</td>\n",
              "      <td>-296.491371</td>\n",
              "      <td>745.151032</td>\n",
              "      <td>...</td>\n",
              "      <td>-171.924725</td>\n",
              "      <td>-605.632654</td>\n",
              "      <td>471.860292</td>\n",
              "      <td>-173.278100</td>\n",
              "      <td>344.019991</td>\n",
              "      <td>-331.346145</td>\n",
              "      <td>-231.785751</td>\n",
              "      <td>316.086751</td>\n",
              "      <td>-11.222177</td>\n",
              "      <td>272.023862</td>\n",
              "    </tr>\n",
              "    <tr>\n",
              "      <th>9198</th>\n",
              "      <td>171.150694</td>\n",
              "      <td>-2.147341</td>\n",
              "      <td>-107.726293</td>\n",
              "      <td>-46.303815</td>\n",
              "      <td>-11.592133</td>\n",
              "      <td>13.582604</td>\n",
              "      <td>-131.367637</td>\n",
              "      <td>13.259773</td>\n",
              "      <td>47.004662</td>\n",
              "      <td>315.289928</td>\n",
              "      <td>...</td>\n",
              "      <td>64.152271</td>\n",
              "      <td>22.670532</td>\n",
              "      <td>-171.392310</td>\n",
              "      <td>177.699895</td>\n",
              "      <td>33.261921</td>\n",
              "      <td>-44.862090</td>\n",
              "      <td>-64.796438</td>\n",
              "      <td>-59.055669</td>\n",
              "      <td>-4.331993</td>\n",
              "      <td>96.430235</td>\n",
              "    </tr>\n",
              "    <tr>\n",
              "      <th>9199</th>\n",
              "      <td>-9.333548</td>\n",
              "      <td>19.930298</td>\n",
              "      <td>68.734693</td>\n",
              "      <td>-13.212596</td>\n",
              "      <td>-32.455701</td>\n",
              "      <td>51.470597</td>\n",
              "      <td>-24.242814</td>\n",
              "      <td>145.772925</td>\n",
              "      <td>10.143952</td>\n",
              "      <td>30.661119</td>\n",
              "      <td>...</td>\n",
              "      <td>2.391470</td>\n",
              "      <td>33.729486</td>\n",
              "      <td>32.159887</td>\n",
              "      <td>10.479853</td>\n",
              "      <td>-45.607501</td>\n",
              "      <td>13.734143</td>\n",
              "      <td>13.163416</td>\n",
              "      <td>-4.299609</td>\n",
              "      <td>-8.511935</td>\n",
              "      <td>31.790474</td>\n",
              "    </tr>\n",
              "  </tbody>\n",
              "</table>\n",
              "<p>9200 rows × 43 columns</p>\n",
              "</div>\n",
              "      <button class=\"colab-df-convert\" onclick=\"convertToInteractive('df-c3ad12c5-c7ee-4f54-96d7-343a677445ce')\"\n",
              "              title=\"Convert this dataframe to an interactive table.\"\n",
              "              style=\"display:none;\">\n",
              "        \n",
              "  <svg xmlns=\"http://www.w3.org/2000/svg\" height=\"24px\"viewBox=\"0 0 24 24\"\n",
              "       width=\"24px\">\n",
              "    <path d=\"M0 0h24v24H0V0z\" fill=\"none\"/>\n",
              "    <path d=\"M18.56 5.44l.94 2.06.94-2.06 2.06-.94-2.06-.94-.94-2.06-.94 2.06-2.06.94zm-11 1L8.5 8.5l.94-2.06 2.06-.94-2.06-.94L8.5 2.5l-.94 2.06-2.06.94zm10 10l.94 2.06.94-2.06 2.06-.94-2.06-.94-.94-2.06-.94 2.06-2.06.94z\"/><path d=\"M17.41 7.96l-1.37-1.37c-.4-.4-.92-.59-1.43-.59-.52 0-1.04.2-1.43.59L10.3 9.45l-7.72 7.72c-.78.78-.78 2.05 0 2.83L4 21.41c.39.39.9.59 1.41.59.51 0 1.02-.2 1.41-.59l7.78-7.78 2.81-2.81c.8-.78.8-2.07 0-2.86zM5.41 20L4 18.59l7.72-7.72 1.47 1.35L5.41 20z\"/>\n",
              "  </svg>\n",
              "      </button>\n",
              "      \n",
              "  <style>\n",
              "    .colab-df-container {\n",
              "      display:flex;\n",
              "      flex-wrap:wrap;\n",
              "      gap: 12px;\n",
              "    }\n",
              "\n",
              "    .colab-df-convert {\n",
              "      background-color: #E8F0FE;\n",
              "      border: none;\n",
              "      border-radius: 50%;\n",
              "      cursor: pointer;\n",
              "      display: none;\n",
              "      fill: #1967D2;\n",
              "      height: 32px;\n",
              "      padding: 0 0 0 0;\n",
              "      width: 32px;\n",
              "    }\n",
              "\n",
              "    .colab-df-convert:hover {\n",
              "      background-color: #E2EBFA;\n",
              "      box-shadow: 0px 1px 2px rgba(60, 64, 67, 0.3), 0px 1px 3px 1px rgba(60, 64, 67, 0.15);\n",
              "      fill: #174EA6;\n",
              "    }\n",
              "\n",
              "    [theme=dark] .colab-df-convert {\n",
              "      background-color: #3B4455;\n",
              "      fill: #D2E3FC;\n",
              "    }\n",
              "\n",
              "    [theme=dark] .colab-df-convert:hover {\n",
              "      background-color: #434B5C;\n",
              "      box-shadow: 0px 1px 3px 1px rgba(0, 0, 0, 0.15);\n",
              "      filter: drop-shadow(0px 1px 2px rgba(0, 0, 0, 0.3));\n",
              "      fill: #FFFFFF;\n",
              "    }\n",
              "  </style>\n",
              "\n",
              "      <script>\n",
              "        const buttonEl =\n",
              "          document.querySelector('#df-c3ad12c5-c7ee-4f54-96d7-343a677445ce button.colab-df-convert');\n",
              "        buttonEl.style.display =\n",
              "          google.colab.kernel.accessAllowed ? 'block' : 'none';\n",
              "\n",
              "        async function convertToInteractive(key) {\n",
              "          const element = document.querySelector('#df-c3ad12c5-c7ee-4f54-96d7-343a677445ce');\n",
              "          const dataTable =\n",
              "            await google.colab.kernel.invokeFunction('convertToInteractive',\n",
              "                                                     [key], {});\n",
              "          if (!dataTable) return;\n",
              "\n",
              "          const docLinkHtml = 'Like what you see? Visit the ' +\n",
              "            '<a target=\"_blank\" href=https://colab.research.google.com/notebooks/data_table.ipynb>data table notebook</a>'\n",
              "            + ' to learn more about interactive tables.';\n",
              "          element.innerHTML = '';\n",
              "          dataTable['output_type'] = 'display_data';\n",
              "          await google.colab.output.renderOutput(dataTable, element);\n",
              "          const docLink = document.createElement('div');\n",
              "          docLink.innerHTML = docLinkHtml;\n",
              "          element.appendChild(docLink);\n",
              "        }\n",
              "      </script>\n",
              "    </div>\n",
              "  </div>\n",
              "  "
            ]
          },
          "metadata": {},
          "execution_count": 64
        }
      ]
    },
    {
      "cell_type": "code",
      "source": [
        "y_train.shape"
      ],
      "metadata": {
        "id": "cudHrhuVv5vg",
        "colab": {
          "base_uri": "https://localhost:8080/"
        },
        "outputId": "09927dbb-6927-41e1-88fe-b5d9584b95d0"
      },
      "execution_count": null,
      "outputs": [
        {
          "output_type": "execute_result",
          "data": {
            "text/plain": [
              "(9200,)"
            ]
          },
          "metadata": {},
          "execution_count": 65
        }
      ]
    },
    {
      "cell_type": "code",
      "source": [
        "y_train.value_counts()"
      ],
      "metadata": {
        "id": "QqT5m8iVwDg8",
        "colab": {
          "base_uri": "https://localhost:8080/"
        },
        "outputId": "e69a0344-c73f-4a44-a300-07232c0f03c2"
      },
      "execution_count": null,
      "outputs": [
        {
          "output_type": "execute_result",
          "data": {
            "text/plain": [
              "0    7320\n",
              "1    1880\n",
              "Name: y, dtype: int64"
            ]
          },
          "metadata": {},
          "execution_count": 66
        }
      ]
    },
    {
      "cell_type": "code",
      "source": [
        "plt.figure(figsize=(8,4.5))\n",
        "sns.countplot(y_train, palette='GnBu')\n",
        "plt.show()"
      ],
      "metadata": {
        "id": "2G7_oTeIwJI1",
        "colab": {
          "base_uri": "https://localhost:8080/",
          "height": 362
        },
        "outputId": "dbe118de-bd51-4044-c4b7-03d84072f345"
      },
      "execution_count": null,
      "outputs": [
        {
          "output_type": "stream",
          "name": "stderr",
          "text": [
            "/usr/local/lib/python3.7/dist-packages/seaborn/_decorators.py:43: FutureWarning: Pass the following variable as a keyword arg: x. From version 0.12, the only valid positional argument will be `data`, and passing other arguments without an explicit keyword will result in an error or misinterpretation.\n",
            "  FutureWarning\n"
          ]
        },
        {
          "output_type": "display_data",
          "data": {
            "text/plain": [
              "<Figure size 576x324 with 1 Axes>"
            ],
            "image/png": "[encoded data removed]"
          },
          "metadata": {
            "needs_background": "light"
          }
        }
      ]
    },
    {
      "cell_type": "markdown",
      "source": [
        "### **Oversampling**"
      ],
      "metadata": {
        "id": "m1t59gWIw627"
      }
    },
    {
      "cell_type": "code",
      "source": [
        "ros = RandomOverSampler(sampling_strategy='minority')\n",
        "X_train_resampled, y_train_resampled = ros.fit_resample(X_train, y_train)"
      ],
      "metadata": {
        "id": "1D_T5yjfw_JX"
      },
      "execution_count": null,
      "outputs": []
    },
    {
      "cell_type": "code",
      "source": [
        "X_train_resampled"
      ],
      "metadata": {
        "colab": {
          "base_uri": "https://localhost:8080/",
          "height": 487
        },
        "id": "E72m4tOBg0q2",
        "outputId": "91dfa2e2-93ea-48b4-c534-5793ebd2a094"
      },
      "execution_count": null,
      "outputs": [
        {
          "output_type": "execute_result",
          "data": {
            "text/plain": [
              "                0            1            2            3            4   \\\n",
              "0      -465.997780   -91.773558   -89.454208   914.661838   519.819724   \n",
              "1       -25.227998   910.413401 -1290.080026  -418.990525 -1788.568491   \n",
              "2        -3.653217   -11.274853    18.052956   108.499451   227.444752   \n",
              "3       -15.989260   -20.168107    21.900911   -56.129033    41.302880   \n",
              "4      -144.937308   -60.401571    -0.968282  -143.034417   149.517496   \n",
              "...            ...          ...          ...          ...          ...   \n",
              "14635  -268.723213  -204.351384   -69.846767  -411.981650  -327.810728   \n",
              "14636 -2054.384182  -736.298004  -453.373598   785.433494 -1000.502032   \n",
              "14637 -1082.950809   884.195723 -1662.069038  -265.462788    53.718851   \n",
              "14638 -1367.890143  1556.696705  -226.636269 -1840.819809  -443.181480   \n",
              "14639  -711.285699   -94.148670    75.806063   332.976663  -277.466135   \n",
              "\n",
              "                5            6            7            8            9   ...  \\\n",
              "0       -19.728427   265.022317  1240.354770   713.598950  -456.337836  ...   \n",
              "1      3619.358541 -2428.276529  1408.020065  -749.711551 -2014.429925  ...   \n",
              "2       289.883980   329.371467   377.195206  -198.069958   175.151693  ...   \n",
              "3       328.218671   134.559665   164.724272   -61.763626   164.073063  ...   \n",
              "4        44.131903    -1.540230   216.469155  -255.182315   153.431446  ...   \n",
              "...            ...          ...          ...          ...          ...  ...   \n",
              "14635   -62.688131  -494.048810   -74.279633   396.605089  -105.193411  ...   \n",
              "14636  -416.148987  2143.464188  -313.763421  1034.000163   255.708044  ...   \n",
              "14637  -324.411815   505.898621  -263.930210  -184.281826  -578.473312  ...   \n",
              "14638  -674.017326  -485.395615  -482.736195  -567.306914   836.461744  ...   \n",
              "14639  -214.373986   140.373661   -92.866065  -282.149694   665.232445  ...   \n",
              "\n",
              "               33          34          35          36          37  \\\n",
              "0       32.199686   75.547028  -34.982466  448.589910  210.258554   \n",
              "1      521.204420  923.627719  367.506311  918.657756  303.482860   \n",
              "2      -72.622702   37.161846  -40.043558   28.165602    5.884969   \n",
              "3       69.840753    3.595920   31.768603 -107.094522   14.988292   \n",
              "4       52.570656   93.885620  -55.157335  -11.832935  -29.235198   \n",
              "...           ...         ...         ...         ...         ...   \n",
              "14635 -159.354861   -0.040458  188.949376   -5.386888  -28.573115   \n",
              "14636 -189.700711   92.716266  -37.233805 -129.628995 -263.920051   \n",
              "14637  -80.119530  267.582680  401.225051 -111.297704 -323.279447   \n",
              "14638 -259.818814  386.901667  105.292854   48.672137 -169.383334   \n",
              "14639  250.782673  135.805681  -97.317668  -53.323157   18.265562   \n",
              "\n",
              "                38          39          40          41          42  \n",
              "0         4.589245  -36.720158   64.809703  -26.562898   -4.201259  \n",
              "1     -1171.704270 -506.936077  507.199117  437.893011  361.897984  \n",
              "2         5.112575   20.552755   32.997901  -25.288709   18.750013  \n",
              "3        22.469313  -64.451765    0.059961    0.003586   -3.482621  \n",
              "4        50.372486   41.600976  -66.813093   75.942458  -38.319473  \n",
              "...            ...         ...         ...         ...         ...  \n",
              "14635    17.155183   58.843512  -14.430136   26.481143  -83.300085  \n",
              "14636   332.312823  -22.913477  -68.499802 -119.662496 -108.596833  \n",
              "14637   -25.470487 -147.620764    5.144602  188.077425   97.522528  \n",
              "14638   281.257622 -156.387583   64.301966   -2.937707  -20.930922  \n",
              "14639   -81.867894 -102.296617  -42.996979   54.110169   15.604643  \n",
              "\n",
              "[14640 rows x 43 columns]"
            ],
            "text/html": [
              "\n",
              "  <div id=\"df-2d9340ae-a764-4688-b7a4-0b71d34952b2\">\n",
              "    <div class=\"colab-df-container\">\n",
              "      <div>\n",
              "<style scoped>\n",
              "    .dataframe tbody tr th:only-of-type {\n",
              "        vertical-align: middle;\n",
              "    }\n",
              "\n",
              "    .dataframe tbody tr th {\n",
              "        vertical-align: top;\n",
              "    }\n",
              "\n",
              "    .dataframe thead th {\n",
              "        text-align: right;\n",
              "    }\n",
              "</style>\n",
              "<table border=\"1\" class=\"dataframe\">\n",
              "  <thead>\n",
              "    <tr style=\"text-align: right;\">\n",
              "      <th></th>\n",
              "      <th>0</th>\n",
              "      <th>1</th>\n",
              "      <th>2</th>\n",
              "      <th>3</th>\n",
              "      <th>4</th>\n",
              "      <th>5</th>\n",
              "      <th>6</th>\n",
              "      <th>7</th>\n",
              "      <th>8</th>\n",
              "      <th>9</th>\n",
              "      <th>...</th>\n",
              "      <th>33</th>\n",
              "      <th>34</th>\n",
              "      <th>35</th>\n",
              "      <th>36</th>\n",
              "      <th>37</th>\n",
              "      <th>38</th>\n",
              "      <th>39</th>\n",
              "      <th>40</th>\n",
              "      <th>41</th>\n",
              "      <th>42</th>\n",
              "    </tr>\n",
              "  </thead>\n",
              "  <tbody>\n",
              "    <tr>\n",
              "      <th>0</th>\n",
              "      <td>-465.997780</td>\n",
              "      <td>-91.773558</td>\n",
              "      <td>-89.454208</td>\n",
              "      <td>914.661838</td>\n",
              "      <td>519.819724</td>\n",
              "      <td>-19.728427</td>\n",
              "      <td>265.022317</td>\n",
              "      <td>1240.354770</td>\n",
              "      <td>713.598950</td>\n",
              "      <td>-456.337836</td>\n",
              "      <td>...</td>\n",
              "      <td>32.199686</td>\n",
              "      <td>75.547028</td>\n",
              "      <td>-34.982466</td>\n",
              "      <td>448.589910</td>\n",
              "      <td>210.258554</td>\n",
              "      <td>4.589245</td>\n",
              "      <td>-36.720158</td>\n",
              "      <td>64.809703</td>\n",
              "      <td>-26.562898</td>\n",
              "      <td>-4.201259</td>\n",
              "    </tr>\n",
              "    <tr>\n",
              "      <th>1</th>\n",
              "      <td>-25.227998</td>\n",
              "      <td>910.413401</td>\n",
              "      <td>-1290.080026</td>\n",
              "      <td>-418.990525</td>\n",
              "      <td>-1788.568491</td>\n",
              "      <td>3619.358541</td>\n",
              "      <td>-2428.276529</td>\n",
              "      <td>1408.020065</td>\n",
              "      <td>-749.711551</td>\n",
              "      <td>-2014.429925</td>\n",
              "      <td>...</td>\n",
              "      <td>521.204420</td>\n",
              "      <td>923.627719</td>\n",
              "      <td>367.506311</td>\n",
              "      <td>918.657756</td>\n",
              "      <td>303.482860</td>\n",
              "      <td>-1171.704270</td>\n",
              "      <td>-506.936077</td>\n",
              "      <td>507.199117</td>\n",
              "      <td>437.893011</td>\n",
              "      <td>361.897984</td>\n",
              "    </tr>\n",
              "    <tr>\n",
              "      <th>2</th>\n",
              "      <td>-3.653217</td>\n",
              "      <td>-11.274853</td>\n",
              "      <td>18.052956</td>\n",
              "      <td>108.499451</td>\n",
              "      <td>227.444752</td>\n",
              "      <td>289.883980</td>\n",
              "      <td>329.371467</td>\n",
              "      <td>377.195206</td>\n",
              "      <td>-198.069958</td>\n",
              "      <td>175.151693</td>\n",
              "      <td>...</td>\n",
              "      <td>-72.622702</td>\n",
              "      <td>37.161846</td>\n",
              "      <td>-40.043558</td>\n",
              "      <td>28.165602</td>\n",
              "      <td>5.884969</td>\n",
              "      <td>5.112575</td>\n",
              "      <td>20.552755</td>\n",
              "      <td>32.997901</td>\n",
              "      <td>-25.288709</td>\n",
              "      <td>18.750013</td>\n",
              "    </tr>\n",
              "    <tr>\n",
              "      <th>3</th>\n",
              "      <td>-15.989260</td>\n",
              "      <td>-20.168107</td>\n",
              "      <td>21.900911</td>\n",
              "      <td>-56.129033</td>\n",
              "      <td>41.302880</td>\n",
              "      <td>328.218671</td>\n",
              "      <td>134.559665</td>\n",
              "      <td>164.724272</td>\n",
              "      <td>-61.763626</td>\n",
              "      <td>164.073063</td>\n",
              "      <td>...</td>\n",
              "      <td>69.840753</td>\n",
              "      <td>3.595920</td>\n",
              "      <td>31.768603</td>\n",
              "      <td>-107.094522</td>\n",
              "      <td>14.988292</td>\n",
              "      <td>22.469313</td>\n",
              "      <td>-64.451765</td>\n",
              "      <td>0.059961</td>\n",
              "      <td>0.003586</td>\n",
              "      <td>-3.482621</td>\n",
              "    </tr>\n",
              "    <tr>\n",
              "      <th>4</th>\n",
              "      <td>-144.937308</td>\n",
              "      <td>-60.401571</td>\n",
              "      <td>-0.968282</td>\n",
              "      <td>-143.034417</td>\n",
              "      <td>149.517496</td>\n",
              "      <td>44.131903</td>\n",
              "      <td>-1.540230</td>\n",
              "      <td>216.469155</td>\n",
              "      <td>-255.182315</td>\n",
              "      <td>153.431446</td>\n",
              "      <td>...</td>\n",
              "      <td>52.570656</td>\n",
              "      <td>93.885620</td>\n",
              "      <td>-55.157335</td>\n",
              "      <td>-11.832935</td>\n",
              "      <td>-29.235198</td>\n",
              "      <td>50.372486</td>\n",
              "      <td>41.600976</td>\n",
              "      <td>-66.813093</td>\n",
              "      <td>75.942458</td>\n",
              "      <td>-38.319473</td>\n",
              "    </tr>\n",
              "    <tr>\n",
              "      <th>...</th>\n",
              "      <td>...</td>\n",
              "      <td>...</td>\n",
              "      <td>...</td>\n",
              "      <td>...</td>\n",
              "      <td>...</td>\n",
              "      <td>...</td>\n",
              "      <td>...</td>\n",
              "      <td>...</td>\n",
              "      <td>...</td>\n",
              "      <td>...</td>\n",
              "      <td>...</td>\n",
              "      <td>...</td>\n",
              "      <td>...</td>\n",
              "      <td>...</td>\n",
              "      <td>...</td>\n",
              "      <td>...</td>\n",
              "      <td>...</td>\n",
              "      <td>...</td>\n",
              "      <td>...</td>\n",
              "      <td>...</td>\n",
              "      <td>...</td>\n",
              "    </tr>\n",
              "    <tr>\n",
              "      <th>14635</th>\n",
              "      <td>-268.723213</td>\n",
              "      <td>-204.351384</td>\n",
              "      <td>-69.846767</td>\n",
              "      <td>-411.981650</td>\n",
              "      <td>-327.810728</td>\n",
              "      <td>-62.688131</td>\n",
              "      <td>-494.048810</td>\n",
              "      <td>-74.279633</td>\n",
              "      <td>396.605089</td>\n",
              "      <td>-105.193411</td>\n",
              "      <td>...</td>\n",
              "      <td>-159.354861</td>\n",
              "      <td>-0.040458</td>\n",
              "      <td>188.949376</td>\n",
              "      <td>-5.386888</td>\n",
              "      <td>-28.573115</td>\n",
              "      <td>17.155183</td>\n",
              "      <td>58.843512</td>\n",
              "      <td>-14.430136</td>\n",
              "      <td>26.481143</td>\n",
              "      <td>-83.300085</td>\n",
              "    </tr>\n",
              "    <tr>\n",
              "      <th>14636</th>\n",
              "      <td>-2054.384182</td>\n",
              "      <td>-736.298004</td>\n",
              "      <td>-453.373598</td>\n",
              "      <td>785.433494</td>\n",
              "      <td>-1000.502032</td>\n",
              "      <td>-416.148987</td>\n",
              "      <td>2143.464188</td>\n",
              "      <td>-313.763421</td>\n",
              "      <td>1034.000163</td>\n",
              "      <td>255.708044</td>\n",
              "      <td>...</td>\n",
              "      <td>-189.700711</td>\n",
              "      <td>92.716266</td>\n",
              "      <td>-37.233805</td>\n",
              "      <td>-129.628995</td>\n",
              "      <td>-263.920051</td>\n",
              "      <td>332.312823</td>\n",
              "      <td>-22.913477</td>\n",
              "      <td>-68.499802</td>\n",
              "      <td>-119.662496</td>\n",
              "      <td>-108.596833</td>\n",
              "    </tr>\n",
              "    <tr>\n",
              "      <th>14637</th>\n",
              "      <td>-1082.950809</td>\n",
              "      <td>884.195723</td>\n",
              "      <td>-1662.069038</td>\n",
              "      <td>-265.462788</td>\n",
              "      <td>53.718851</td>\n",
              "      <td>-324.411815</td>\n",
              "      <td>505.898621</td>\n",
              "      <td>-263.930210</td>\n",
              "      <td>-184.281826</td>\n",
              "      <td>-578.473312</td>\n",
              "      <td>...</td>\n",
              "      <td>-80.119530</td>\n",
              "      <td>267.582680</td>\n",
              "      <td>401.225051</td>\n",
              "      <td>-111.297704</td>\n",
              "      <td>-323.279447</td>\n",
              "      <td>-25.470487</td>\n",
              "      <td>-147.620764</td>\n",
              "      <td>5.144602</td>\n",
              "      <td>188.077425</td>\n",
              "      <td>97.522528</td>\n",
              "    </tr>\n",
              "    <tr>\n",
              "      <th>14638</th>\n",
              "      <td>-1367.890143</td>\n",
              "      <td>1556.696705</td>\n",
              "      <td>-226.636269</td>\n",
              "      <td>-1840.819809</td>\n",
              "      <td>-443.181480</td>\n",
              "      <td>-674.017326</td>\n",
              "      <td>-485.395615</td>\n",
              "      <td>-482.736195</td>\n",
              "      <td>-567.306914</td>\n",
              "      <td>836.461744</td>\n",
              "      <td>...</td>\n",
              "      <td>-259.818814</td>\n",
              "      <td>386.901667</td>\n",
              "      <td>105.292854</td>\n",
              "      <td>48.672137</td>\n",
              "      <td>-169.383334</td>\n",
              "      <td>281.257622</td>\n",
              "      <td>-156.387583</td>\n",
              "      <td>64.301966</td>\n",
              "      <td>-2.937707</td>\n",
              "      <td>-20.930922</td>\n",
              "    </tr>\n",
              "    <tr>\n",
              "      <th>14639</th>\n",
              "      <td>-711.285699</td>\n",
              "      <td>-94.148670</td>\n",
              "      <td>75.806063</td>\n",
              "      <td>332.976663</td>\n",
              "      <td>-277.466135</td>\n",
              "      <td>-214.373986</td>\n",
              "      <td>140.373661</td>\n",
              "      <td>-92.866065</td>\n",
              "      <td>-282.149694</td>\n",
              "      <td>665.232445</td>\n",
              "      <td>...</td>\n",
              "      <td>250.782673</td>\n",
              "      <td>135.805681</td>\n",
              "      <td>-97.317668</td>\n",
              "      <td>-53.323157</td>\n",
              "      <td>18.265562</td>\n",
              "      <td>-81.867894</td>\n",
              "      <td>-102.296617</td>\n",
              "      <td>-42.996979</td>\n",
              "      <td>54.110169</td>\n",
              "      <td>15.604643</td>\n",
              "    </tr>\n",
              "  </tbody>\n",
              "</table>\n",
              "<p>14640 rows × 43 columns</p>\n",
              "</div>\n",
              "      <button class=\"colab-df-convert\" onclick=\"convertToInteractive('df-2d9340ae-a764-4688-b7a4-0b71d34952b2')\"\n",
              "              title=\"Convert this dataframe to an interactive table.\"\n",
              "              style=\"display:none;\">\n",
              "        \n",
              "  <svg xmlns=\"http://www.w3.org/2000/svg\" height=\"24px\"viewBox=\"0 0 24 24\"\n",
              "       width=\"24px\">\n",
              "    <path d=\"M0 0h24v24H0V0z\" fill=\"none\"/>\n",
              "    <path d=\"M18.56 5.44l.94 2.06.94-2.06 2.06-.94-2.06-.94-.94-2.06-.94 2.06-2.06.94zm-11 1L8.5 8.5l.94-2.06 2.06-.94-2.06-.94L8.5 2.5l-.94 2.06-2.06.94zm10 10l.94 2.06.94-2.06 2.06-.94-2.06-.94-.94-2.06-.94 2.06-2.06.94z\"/><path d=\"M17.41 7.96l-1.37-1.37c-.4-.4-.92-.59-1.43-.59-.52 0-1.04.2-1.43.59L10.3 9.45l-7.72 7.72c-.78.78-.78 2.05 0 2.83L4 21.41c.39.39.9.59 1.41.59.51 0 1.02-.2 1.41-.59l7.78-7.78 2.81-2.81c.8-.78.8-2.07 0-2.86zM5.41 20L4 18.59l7.72-7.72 1.47 1.35L5.41 20z\"/>\n",
              "  </svg>\n",
              "      </button>\n",
              "      \n",
              "  <style>\n",
              "    .colab-df-container {\n",
              "      display:flex;\n",
              "      flex-wrap:wrap;\n",
              "      gap: 12px;\n",
              "    }\n",
              "\n",
              "    .colab-df-convert {\n",
              "      background-color: #E8F0FE;\n",
              "      border: none;\n",
              "      border-radius: 50%;\n",
              "      cursor: pointer;\n",
              "      display: none;\n",
              "      fill: #1967D2;\n",
              "      height: 32px;\n",
              "      padding: 0 0 0 0;\n",
              "      width: 32px;\n",
              "    }\n",
              "\n",
              "    .colab-df-convert:hover {\n",
              "      background-color: #E2EBFA;\n",
              "      box-shadow: 0px 1px 2px rgba(60, 64, 67, 0.3), 0px 1px 3px 1px rgba(60, 64, 67, 0.15);\n",
              "      fill: #174EA6;\n",
              "    }\n",
              "\n",
              "    [theme=dark] .colab-df-convert {\n",
              "      background-color: #3B4455;\n",
              "      fill: #D2E3FC;\n",
              "    }\n",
              "\n",
              "    [theme=dark] .colab-df-convert:hover {\n",
              "      background-color: #434B5C;\n",
              "      box-shadow: 0px 1px 3px 1px rgba(0, 0, 0, 0.15);\n",
              "      filter: drop-shadow(0px 1px 2px rgba(0, 0, 0, 0.3));\n",
              "      fill: #FFFFFF;\n",
              "    }\n",
              "  </style>\n",
              "\n",
              "      <script>\n",
              "        const buttonEl =\n",
              "          document.querySelector('#df-2d9340ae-a764-4688-b7a4-0b71d34952b2 button.colab-df-convert');\n",
              "        buttonEl.style.display =\n",
              "          google.colab.kernel.accessAllowed ? 'block' : 'none';\n",
              "\n",
              "        async function convertToInteractive(key) {\n",
              "          const element = document.querySelector('#df-2d9340ae-a764-4688-b7a4-0b71d34952b2');\n",
              "          const dataTable =\n",
              "            await google.colab.kernel.invokeFunction('convertToInteractive',\n",
              "                                                     [key], {});\n",
              "          if (!dataTable) return;\n",
              "\n",
              "          const docLinkHtml = 'Like what you see? Visit the ' +\n",
              "            '<a target=\"_blank\" href=https://colab.research.google.com/notebooks/data_table.ipynb>data table notebook</a>'\n",
              "            + ' to learn more about interactive tables.';\n",
              "          element.innerHTML = '';\n",
              "          dataTable['output_type'] = 'display_data';\n",
              "          await google.colab.output.renderOutput(dataTable, element);\n",
              "          const docLink = document.createElement('div');\n",
              "          docLink.innerHTML = docLinkHtml;\n",
              "          element.appendChild(docLink);\n",
              "        }\n",
              "      </script>\n",
              "    </div>\n",
              "  </div>\n",
              "  "
            ]
          },
          "metadata": {},
          "execution_count": 69
        }
      ]
    },
    {
      "cell_type": "code",
      "source": [
        "columns_list = list(X_train_resampled.columns)"
      ],
      "metadata": {
        "id": "zzfuLjRBhlCh"
      },
      "execution_count": null,
      "outputs": []
    },
    {
      "cell_type": "code",
      "source": [
        "y_train_resampled.shape"
      ],
      "metadata": {
        "id": "sgFjfXDVyonJ",
        "colab": {
          "base_uri": "https://localhost:8080/"
        },
        "outputId": "81405468-8860-4509-8f77-7930267dd941"
      },
      "execution_count": null,
      "outputs": [
        {
          "output_type": "execute_result",
          "data": {
            "text/plain": [
              "(14640,)"
            ]
          },
          "metadata": {},
          "execution_count": 71
        }
      ]
    },
    {
      "cell_type": "code",
      "source": [
        "y_train_resampled.value_counts()"
      ],
      "metadata": {
        "id": "QCuaHNTOysrV",
        "colab": {
          "base_uri": "https://localhost:8080/"
        },
        "outputId": "221ab40c-1d7f-4f8c-9c46-8d9de2c42cd1"
      },
      "execution_count": null,
      "outputs": [
        {
          "output_type": "execute_result",
          "data": {
            "text/plain": [
              "1    7320\n",
              "0    7320\n",
              "Name: y, dtype: int64"
            ]
          },
          "metadata": {},
          "execution_count": 72
        }
      ]
    },
    {
      "cell_type": "code",
      "source": [
        "plt.figure(figsize=(8,4.5))\n",
        "sns.countplot(y_train_resampled, palette='GnBu')\n",
        "plt.show()"
      ],
      "metadata": {
        "id": "LtQpHOMsyx3C",
        "colab": {
          "base_uri": "https://localhost:8080/",
          "height": 362
        },
        "outputId": "042b4bcc-12ac-4224-8497-10c3f4fb0ccc"
      },
      "execution_count": null,
      "outputs": [
        {
          "output_type": "stream",
          "name": "stderr",
          "text": [
            "/usr/local/lib/python3.7/dist-packages/seaborn/_decorators.py:43: FutureWarning: Pass the following variable as a keyword arg: x. From version 0.12, the only valid positional argument will be `data`, and passing other arguments without an explicit keyword will result in an error or misinterpretation.\n",
            "  FutureWarning\n"
          ]
        },
        {
          "output_type": "display_data",
          "data": {
            "text/plain": [
              "<Figure size 576x324 with 1 Axes>"
            ],
            "image/png": "[encoded data removed]"
          },
          "metadata": {
            "needs_background": "light"
          }
        }
      ]
    },
    {
      "cell_type": "markdown",
      "source": [
        "### **Normalization**"
      ],
      "metadata": {
        "id": "Dt7ItiI2y_SU"
      }
    },
    {
      "cell_type": "code",
      "source": [
        "std = StandardScaler().fit(X_train_resampled)\n",
        "X_train_resampled = pd.DataFrame(std.transform(X_train_resampled))\n",
        "X_test = pd.DataFrame(std.transform(X_test))"
      ],
      "metadata": {
        "id": "4egV57RyzFKh"
      },
      "execution_count": null,
      "outputs": []
    },
    {
      "cell_type": "code",
      "source": [
        "X_train_resampled.columns = columns_list\n",
        "X_train_resampled\n",
        "X_test.columns = columns_list\n",
        "X_test"
      ],
      "metadata": {
        "id": "-LWVQwC13AzR",
        "colab": {
          "base_uri": "https://localhost:8080/",
          "height": 423
        },
        "outputId": "13409d47-394b-4dc0-a795-9fbe275f55cd"
      },
      "execution_count": null,
      "outputs": [
        {
          "output_type": "execute_result",
          "data": {
            "text/plain": [
              "            0         1         2         3         4         5         6   \\\n",
              "0    -1.738375  0.157324  2.147641 -0.843101  2.513941  1.796255 -1.836395   \n",
              "1     0.161534  0.041127  0.264286 -0.082351 -0.255492 -0.731739 -0.158231   \n",
              "2    -0.147449  0.030462 -0.158860 -0.099808  0.107750  0.296493  0.095248   \n",
              "3     0.290864 -0.142264  0.422794  0.018962 -1.547449 -0.628179  0.766411   \n",
              "4     0.037005 -0.050002  0.014089  0.043674  0.183374  0.143472  0.291138   \n",
              "...        ...       ...       ...       ...       ...       ...       ...   \n",
              "2295 -0.195816 -0.220520  2.460267 -0.770668 -1.429360  0.568712 -0.649335   \n",
              "2296  0.248195  0.237932 -0.337183 -0.856053  0.412882  0.631691 -0.109718   \n",
              "2297 -0.132120 -0.109798  0.065239 -0.016110  0.231321  0.074628 -0.049230   \n",
              "2298  0.041549 -0.030757 -0.201519 -0.008240  0.100594  0.659669  0.067602   \n",
              "2299 -1.047168  0.097526  0.068424  0.768682  0.780889  0.745653 -0.077799   \n",
              "\n",
              "            7         8         9   ...        33        34        35  \\\n",
              "0    -0.108261  1.397769  0.774795  ...  0.904623  0.508782  0.390968   \n",
              "1    -0.639714  0.731402 -0.710845  ... -0.027936 -0.019364 -0.126414   \n",
              "2     0.505550 -0.033960 -0.188200  ...  0.030475  0.039454  0.148620   \n",
              "3    -0.391324 -0.991629 -0.068106  ...  0.626082  1.540659  0.217454   \n",
              "4     0.584581 -0.182995  0.315919  ...  0.052768  0.028053 -0.035499   \n",
              "...        ...       ...       ...  ...       ...       ...       ...   \n",
              "2295 -0.627474  1.296705 -0.376017  ...  1.853724  0.120900 -1.556062   \n",
              "2296 -0.201882  0.389178  0.678185  ... -0.045645  0.079955  0.491263   \n",
              "2297  0.235683 -0.041082 -0.029849  ...  0.346857  0.328888 -0.394506   \n",
              "2298 -0.010429 -1.205581  0.360163  ...  0.042637 -0.109562  0.170631   \n",
              "2299  0.507009 -0.397131 -0.048488  ...  0.440248  0.142884 -0.077949   \n",
              "\n",
              "            36        37        38        39        40        41        42  \n",
              "0    -1.957101 -0.535130  0.198811  0.095537 -0.055194  0.434440 -0.237361  \n",
              "1    -0.075685 -0.123908  0.070777  0.109346  0.407556 -0.174644  0.087721  \n",
              "2    -0.106706 -0.227047  0.019369  0.107682  0.097322 -0.109341 -0.299835  \n",
              "3    -2.009964  2.929079 -0.698564  1.481992  2.012015  0.561410 -1.542596  \n",
              "4     0.030098 -0.063743  0.016971  0.058261  0.098403 -0.033322 -0.010526  \n",
              "...        ...       ...       ...       ...       ...       ...       ...  \n",
              "2295 -0.578160  0.771907 -0.364948  1.073404 -1.150003  3.161511  0.071033  \n",
              "2296  0.258749 -0.248611  0.300672 -0.348906 -0.403053 -0.457421  0.486675  \n",
              "2297 -0.044766 -0.270509 -0.374329 -0.318520  0.018512 -0.004545 -0.048892  \n",
              "2298 -0.500642  0.080143  0.052498 -0.256451 -0.035736 -0.004507 -0.108794  \n",
              "2299  0.090934 -0.595893 -0.219174  0.025156  0.721603  0.329289 -0.179603  \n",
              "\n",
              "[2300 rows x 43 columns]"
            ],
            "text/html": [
              "\n",
              "  <div id=\"df-aa2e6e7b-f3ab-4d42-9ad9-89d4b8b60cc4\">\n",
              "    <div class=\"colab-df-container\">\n",
              "      <div>\n",
              "<style scoped>\n",
              "    .dataframe tbody tr th:only-of-type {\n",
              "        vertical-align: middle;\n",
              "    }\n",
              "\n",
              "    .dataframe tbody tr th {\n",
              "        vertical-align: top;\n",
              "    }\n",
              "\n",
              "    .dataframe thead th {\n",
              "        text-align: right;\n",
              "    }\n",
              "</style>\n",
              "<table border=\"1\" class=\"dataframe\">\n",
              "  <thead>\n",
              "    <tr style=\"text-align: right;\">\n",
              "      <th></th>\n",
              "      <th>0</th>\n",
              "      <th>1</th>\n",
              "      <th>2</th>\n",
              "      <th>3</th>\n",
              "      <th>4</th>\n",
              "      <th>5</th>\n",
              "      <th>6</th>\n",
              "      <th>7</th>\n",
              "      <th>8</th>\n",
              "      <th>9</th>\n",
              "      <th>...</th>\n",
              "      <th>33</th>\n",
              "      <th>34</th>\n",
              "      <th>35</th>\n",
              "      <th>36</th>\n",
              "      <th>37</th>\n",
              "      <th>38</th>\n",
              "      <th>39</th>\n",
              "      <th>40</th>\n",
              "      <th>41</th>\n",
              "      <th>42</th>\n",
              "    </tr>\n",
              "  </thead>\n",
              "  <tbody>\n",
              "    <tr>\n",
              "      <th>0</th>\n",
              "      <td>-1.738375</td>\n",
              "      <td>0.157324</td>\n",
              "      <td>2.147641</td>\n",
              "      <td>-0.843101</td>\n",
              "      <td>2.513941</td>\n",
              "      <td>1.796255</td>\n",
              "      <td>-1.836395</td>\n",
              "      <td>-0.108261</td>\n",
              "      <td>1.397769</td>\n",
              "      <td>0.774795</td>\n",
              "      <td>...</td>\n",
              "      <td>0.904623</td>\n",
              "      <td>0.508782</td>\n",
              "      <td>0.390968</td>\n",
              "      <td>-1.957101</td>\n",
              "      <td>-0.535130</td>\n",
              "      <td>0.198811</td>\n",
              "      <td>0.095537</td>\n",
              "      <td>-0.055194</td>\n",
              "      <td>0.434440</td>\n",
              "      <td>-0.237361</td>\n",
              "    </tr>\n",
              "    <tr>\n",
              "      <th>1</th>\n",
              "      <td>0.161534</td>\n",
              "      <td>0.041127</td>\n",
              "      <td>0.264286</td>\n",
              "      <td>-0.082351</td>\n",
              "      <td>-0.255492</td>\n",
              "      <td>-0.731739</td>\n",
              "      <td>-0.158231</td>\n",
              "      <td>-0.639714</td>\n",
              "      <td>0.731402</td>\n",
              "      <td>-0.710845</td>\n",
              "      <td>...</td>\n",
              "      <td>-0.027936</td>\n",
              "      <td>-0.019364</td>\n",
              "      <td>-0.126414</td>\n",
              "      <td>-0.075685</td>\n",
              "      <td>-0.123908</td>\n",
              "      <td>0.070777</td>\n",
              "      <td>0.109346</td>\n",
              "      <td>0.407556</td>\n",
              "      <td>-0.174644</td>\n",
              "      <td>0.087721</td>\n",
              "    </tr>\n",
              "    <tr>\n",
              "      <th>2</th>\n",
              "      <td>-0.147449</td>\n",
              "      <td>0.030462</td>\n",
              "      <td>-0.158860</td>\n",
              "      <td>-0.099808</td>\n",
              "      <td>0.107750</td>\n",
              "      <td>0.296493</td>\n",
              "      <td>0.095248</td>\n",
              "      <td>0.505550</td>\n",
              "      <td>-0.033960</td>\n",
              "      <td>-0.188200</td>\n",
              "      <td>...</td>\n",
              "      <td>0.030475</td>\n",
              "      <td>0.039454</td>\n",
              "      <td>0.148620</td>\n",
              "      <td>-0.106706</td>\n",
              "      <td>-0.227047</td>\n",
              "      <td>0.019369</td>\n",
              "      <td>0.107682</td>\n",
              "      <td>0.097322</td>\n",
              "      <td>-0.109341</td>\n",
              "      <td>-0.299835</td>\n",
              "    </tr>\n",
              "    <tr>\n",
              "      <th>3</th>\n",
              "      <td>0.290864</td>\n",
              "      <td>-0.142264</td>\n",
              "      <td>0.422794</td>\n",
              "      <td>0.018962</td>\n",
              "      <td>-1.547449</td>\n",
              "      <td>-0.628179</td>\n",
              "      <td>0.766411</td>\n",
              "      <td>-0.391324</td>\n",
              "      <td>-0.991629</td>\n",
              "      <td>-0.068106</td>\n",
              "      <td>...</td>\n",
              "      <td>0.626082</td>\n",
              "      <td>1.540659</td>\n",
              "      <td>0.217454</td>\n",
              "      <td>-2.009964</td>\n",
              "      <td>2.929079</td>\n",
              "      <td>-0.698564</td>\n",
              "      <td>1.481992</td>\n",
              "      <td>2.012015</td>\n",
              "      <td>0.561410</td>\n",
              "      <td>-1.542596</td>\n",
              "    </tr>\n",
              "    <tr>\n",
              "      <th>4</th>\n",
              "      <td>0.037005</td>\n",
              "      <td>-0.050002</td>\n",
              "      <td>0.014089</td>\n",
              "      <td>0.043674</td>\n",
              "      <td>0.183374</td>\n",
              "      <td>0.143472</td>\n",
              "      <td>0.291138</td>\n",
              "      <td>0.584581</td>\n",
              "      <td>-0.182995</td>\n",
              "      <td>0.315919</td>\n",
              "      <td>...</td>\n",
              "      <td>0.052768</td>\n",
              "      <td>0.028053</td>\n",
              "      <td>-0.035499</td>\n",
              "      <td>0.030098</td>\n",
              "      <td>-0.063743</td>\n",
              "      <td>0.016971</td>\n",
              "      <td>0.058261</td>\n",
              "      <td>0.098403</td>\n",
              "      <td>-0.033322</td>\n",
              "      <td>-0.010526</td>\n",
              "    </tr>\n",
              "    <tr>\n",
              "      <th>...</th>\n",
              "      <td>...</td>\n",
              "      <td>...</td>\n",
              "      <td>...</td>\n",
              "      <td>...</td>\n",
              "      <td>...</td>\n",
              "      <td>...</td>\n",
              "      <td>...</td>\n",
              "      <td>...</td>\n",
              "      <td>...</td>\n",
              "      <td>...</td>\n",
              "      <td>...</td>\n",
              "      <td>...</td>\n",
              "      <td>...</td>\n",
              "      <td>...</td>\n",
              "      <td>...</td>\n",
              "      <td>...</td>\n",
              "      <td>...</td>\n",
              "      <td>...</td>\n",
              "      <td>...</td>\n",
              "      <td>...</td>\n",
              "      <td>...</td>\n",
              "    </tr>\n",
              "    <tr>\n",
              "      <th>2295</th>\n",
              "      <td>-0.195816</td>\n",
              "      <td>-0.220520</td>\n",
              "      <td>2.460267</td>\n",
              "      <td>-0.770668</td>\n",
              "      <td>-1.429360</td>\n",
              "      <td>0.568712</td>\n",
              "      <td>-0.649335</td>\n",
              "      <td>-0.627474</td>\n",
              "      <td>1.296705</td>\n",
              "      <td>-0.376017</td>\n",
              "      <td>...</td>\n",
              "      <td>1.853724</td>\n",
              "      <td>0.120900</td>\n",
              "      <td>-1.556062</td>\n",
              "      <td>-0.578160</td>\n",
              "      <td>0.771907</td>\n",
              "      <td>-0.364948</td>\n",
              "      <td>1.073404</td>\n",
              "      <td>-1.150003</td>\n",
              "      <td>3.161511</td>\n",
              "      <td>0.071033</td>\n",
              "    </tr>\n",
              "    <tr>\n",
              "      <th>2296</th>\n",
              "      <td>0.248195</td>\n",
              "      <td>0.237932</td>\n",
              "      <td>-0.337183</td>\n",
              "      <td>-0.856053</td>\n",
              "      <td>0.412882</td>\n",
              "      <td>0.631691</td>\n",
              "      <td>-0.109718</td>\n",
              "      <td>-0.201882</td>\n",
              "      <td>0.389178</td>\n",
              "      <td>0.678185</td>\n",
              "      <td>...</td>\n",
              "      <td>-0.045645</td>\n",
              "      <td>0.079955</td>\n",
              "      <td>0.491263</td>\n",
              "      <td>0.258749</td>\n",
              "      <td>-0.248611</td>\n",
              "      <td>0.300672</td>\n",
              "      <td>-0.348906</td>\n",
              "      <td>-0.403053</td>\n",
              "      <td>-0.457421</td>\n",
              "      <td>0.486675</td>\n",
              "    </tr>\n",
              "    <tr>\n",
              "      <th>2297</th>\n",
              "      <td>-0.132120</td>\n",
              "      <td>-0.109798</td>\n",
              "      <td>0.065239</td>\n",
              "      <td>-0.016110</td>\n",
              "      <td>0.231321</td>\n",
              "      <td>0.074628</td>\n",
              "      <td>-0.049230</td>\n",
              "      <td>0.235683</td>\n",
              "      <td>-0.041082</td>\n",
              "      <td>-0.029849</td>\n",
              "      <td>...</td>\n",
              "      <td>0.346857</td>\n",
              "      <td>0.328888</td>\n",
              "      <td>-0.394506</td>\n",
              "      <td>-0.044766</td>\n",
              "      <td>-0.270509</td>\n",
              "      <td>-0.374329</td>\n",
              "      <td>-0.318520</td>\n",
              "      <td>0.018512</td>\n",
              "      <td>-0.004545</td>\n",
              "      <td>-0.048892</td>\n",
              "    </tr>\n",
              "    <tr>\n",
              "      <th>2298</th>\n",
              "      <td>0.041549</td>\n",
              "      <td>-0.030757</td>\n",
              "      <td>-0.201519</td>\n",
              "      <td>-0.008240</td>\n",
              "      <td>0.100594</td>\n",
              "      <td>0.659669</td>\n",
              "      <td>0.067602</td>\n",
              "      <td>-0.010429</td>\n",
              "      <td>-1.205581</td>\n",
              "      <td>0.360163</td>\n",
              "      <td>...</td>\n",
              "      <td>0.042637</td>\n",
              "      <td>-0.109562</td>\n",
              "      <td>0.170631</td>\n",
              "      <td>-0.500642</td>\n",
              "      <td>0.080143</td>\n",
              "      <td>0.052498</td>\n",
              "      <td>-0.256451</td>\n",
              "      <td>-0.035736</td>\n",
              "      <td>-0.004507</td>\n",
              "      <td>-0.108794</td>\n",
              "    </tr>\n",
              "    <tr>\n",
              "      <th>2299</th>\n",
              "      <td>-1.047168</td>\n",
              "      <td>0.097526</td>\n",
              "      <td>0.068424</td>\n",
              "      <td>0.768682</td>\n",
              "      <td>0.780889</td>\n",
              "      <td>0.745653</td>\n",
              "      <td>-0.077799</td>\n",
              "      <td>0.507009</td>\n",
              "      <td>-0.397131</td>\n",
              "      <td>-0.048488</td>\n",
              "      <td>...</td>\n",
              "      <td>0.440248</td>\n",
              "      <td>0.142884</td>\n",
              "      <td>-0.077949</td>\n",
              "      <td>0.090934</td>\n",
              "      <td>-0.595893</td>\n",
              "      <td>-0.219174</td>\n",
              "      <td>0.025156</td>\n",
              "      <td>0.721603</td>\n",
              "      <td>0.329289</td>\n",
              "      <td>-0.179603</td>\n",
              "    </tr>\n",
              "  </tbody>\n",
              "</table>\n",
              "<p>2300 rows × 43 columns</p>\n",
              "</div>\n",
              "      <button class=\"colab-df-convert\" onclick=\"convertToInteractive('df-aa2e6e7b-f3ab-4d42-9ad9-89d4b8b60cc4')\"\n",
              "              title=\"Convert this dataframe to an interactive table.\"\n",
              "              style=\"display:none;\">\n",
              "        \n",
              "  <svg xmlns=\"http://www.w3.org/2000/svg\" height=\"24px\"viewBox=\"0 0 24 24\"\n",
              "       width=\"24px\">\n",
              "    <path d=\"M0 0h24v24H0V0z\" fill=\"none\"/>\n",
              "    <path d=\"M18.56 5.44l.94 2.06.94-2.06 2.06-.94-2.06-.94-.94-2.06-.94 2.06-2.06.94zm-11 1L8.5 8.5l.94-2.06 2.06-.94-2.06-.94L8.5 2.5l-.94 2.06-2.06.94zm10 10l.94 2.06.94-2.06 2.06-.94-2.06-.94-.94-2.06-.94 2.06-2.06.94z\"/><path d=\"M17.41 7.96l-1.37-1.37c-.4-.4-.92-.59-1.43-.59-.52 0-1.04.2-1.43.59L10.3 9.45l-7.72 7.72c-.78.78-.78 2.05 0 2.83L4 21.41c.39.39.9.59 1.41.59.51 0 1.02-.2 1.41-.59l7.78-7.78 2.81-2.81c.8-.78.8-2.07 0-2.86zM5.41 20L4 18.59l7.72-7.72 1.47 1.35L5.41 20z\"/>\n",
              "  </svg>\n",
              "      </button>\n",
              "      \n",
              "  <style>\n",
              "    .colab-df-container {\n",
              "      display:flex;\n",
              "      flex-wrap:wrap;\n",
              "      gap: 12px;\n",
              "    }\n",
              "\n",
              "    .colab-df-convert {\n",
              "      background-color: #E8F0FE;\n",
              "      border: none;\n",
              "      border-radius: 50%;\n",
              "      cursor: pointer;\n",
              "      display: none;\n",
              "      fill: #1967D2;\n",
              "      height: 32px;\n",
              "      padding: 0 0 0 0;\n",
              "      width: 32px;\n",
              "    }\n",
              "\n",
              "    .colab-df-convert:hover {\n",
              "      background-color: #E2EBFA;\n",
              "      box-shadow: 0px 1px 2px rgba(60, 64, 67, 0.3), 0px 1px 3px 1px rgba(60, 64, 67, 0.15);\n",
              "      fill: #174EA6;\n",
              "    }\n",
              "\n",
              "    [theme=dark] .colab-df-convert {\n",
              "      background-color: #3B4455;\n",
              "      fill: #D2E3FC;\n",
              "    }\n",
              "\n",
              "    [theme=dark] .colab-df-convert:hover {\n",
              "      background-color: #434B5C;\n",
              "      box-shadow: 0px 1px 3px 1px rgba(0, 0, 0, 0.15);\n",
              "      filter: drop-shadow(0px 1px 2px rgba(0, 0, 0, 0.3));\n",
              "      fill: #FFFFFF;\n",
              "    }\n",
              "  </style>\n",
              "\n",
              "      <script>\n",
              "        const buttonEl =\n",
              "          document.querySelector('#df-aa2e6e7b-f3ab-4d42-9ad9-89d4b8b60cc4 button.colab-df-convert');\n",
              "        buttonEl.style.display =\n",
              "          google.colab.kernel.accessAllowed ? 'block' : 'none';\n",
              "\n",
              "        async function convertToInteractive(key) {\n",
              "          const element = document.querySelector('#df-aa2e6e7b-f3ab-4d42-9ad9-89d4b8b60cc4');\n",
              "          const dataTable =\n",
              "            await google.colab.kernel.invokeFunction('convertToInteractive',\n",
              "                                                     [key], {});\n",
              "          if (!dataTable) return;\n",
              "\n",
              "          const docLinkHtml = 'Like what you see? Visit the ' +\n",
              "            '<a target=\"_blank\" href=https://colab.research.google.com/notebooks/data_table.ipynb>data table notebook</a>'\n",
              "            + ' to learn more about interactive tables.';\n",
              "          element.innerHTML = '';\n",
              "          dataTable['output_type'] = 'display_data';\n",
              "          await google.colab.output.renderOutput(dataTable, element);\n",
              "          const docLink = document.createElement('div');\n",
              "          docLink.innerHTML = docLinkHtml;\n",
              "          element.appendChild(docLink);\n",
              "        }\n",
              "      </script>\n",
              "    </div>\n",
              "  </div>\n",
              "  "
            ]
          },
          "metadata": {},
          "execution_count": 75
        }
      ]
    },
    {
      "cell_type": "markdown",
      "source": [
        "### **Application of models**"
      ],
      "metadata": {
        "id": "cz02DvIE42ti"
      }
    },
    {
      "cell_type": "code",
      "source": [
        "from sklearn.dummy import DummyClassifier\n",
        "from sklearn.linear_model import LogisticRegression\n",
        "from sklearn.ensemble import RandomForestClassifier, GradientBoostingClassifier\n",
        "from sklearn.svm import SVC\n",
        "from sklearn.metrics import accuracy_score, precision_score, recall_score, f1_score, confusion_matrix, silhouette_score, classification_report, precision_recall_curve\n",
        "from sklearn.model_selection import cross_val_score\n",
        "from yellowbrick.classifier import ROCAUC, ConfusionMatrix\n",
        "from yellowbrick.model_selection import LearningCurve"
      ],
      "metadata": {
        "id": "mjeFzLI-5CjP"
      },
      "execution_count": null,
      "outputs": []
    },
    {
      "cell_type": "code",
      "source": [
        "def plot_LearningCurv(model):\n",
        "  loglc = LearningCurve(model,  title='Learning Curve', scoring='accuracy')\n",
        "  loglc.fit(X_train_resampled, y_train_resampled)\n",
        "  loglc.finalize()"
      ],
      "metadata": {
        "id": "n5JenoVdkNxW"
      },
      "execution_count": null,
      "outputs": []
    },
    {
      "cell_type": "code",
      "source": [
        "def plot_RoC(model):\n",
        "  logrocauc = ROCAUC(model, classes=['False', 'True'],\n",
        "  title='ROC AUC Plot', binary=True)\n",
        "  logrocauc.fit(X_train_resampled, y_train_resampled)\n",
        "  logrocauc.score(X_test, y_test)\n",
        "  logrocauc.finalize()\n",
        "  plt.show()"
      ],
      "metadata": {
        "id": "AP45BhvzkWL0"
      },
      "execution_count": null,
      "outputs": []
    },
    {
      "cell_type": "code",
      "source": [
        "from inspect import classify_class_attrs\n",
        "# train a dummy model\n",
        "dummy = DummyClassifier()\n",
        "dummy.fit(X_train_resampled, y_train_resampled)\n",
        "dummy_pred = dummy.predict(X_test)\n",
        "\n",
        "dummy_accuracy = accuracy_score(y_test, dummy_pred)\n",
        "dummy_precision = precision_score(y_test, dummy_pred, average = \"weighted\")\n",
        "dummy_recall = recall_score(y_test, dummy_pred, average = \"weighted\")\n",
        "dummy_f1 = f1_score(y_test, dummy_pred, average = \"weighted\")\n",
        "\n",
        "print(\"The accuracy of Dummy classification is \", dummy_accuracy)\n",
        "print(\"The precision score of Dummy classification is \", dummy_precision)\n",
        "print(\"The recall score of Dummy classification is \", dummy_recall)\n",
        "print(\"The F1-score of Dummy classification is \", dummy_f1)\n",
        "print(classification_report(y_test,dummy_pred))\n",
        "con_mrix = confusion_matrix(y_test,dummy_pred)\n",
        "print(\"The confusion_matrix of Dummy classification is \", con_mrix)"
      ],
      "metadata": {
        "id": "T2-KeCQXU-GF",
        "colab": {
          "base_uri": "https://localhost:8080/"
        },
        "outputId": "d9fa81ec-d8df-461f-9eb4-6007671871b5"
      },
      "execution_count": null,
      "outputs": [
        {
          "output_type": "stream",
          "name": "stdout",
          "text": [
            "The accuracy of Dummy classification is  0.8173913043478261\n",
            "The precision score of Dummy classification is  0.6681285444234405\n",
            "The recall score of Dummy classification is  0.8173913043478261\n",
            "The F1-score of Dummy classification is  0.7352610775951738\n",
            "              precision    recall  f1-score   support\n",
            "\n",
            "           0       0.82      1.00      0.90      1880\n",
            "           1       0.00      0.00      0.00       420\n",
            "\n",
            "    accuracy                           0.82      2300\n",
            "   macro avg       0.41      0.50      0.45      2300\n",
            "weighted avg       0.67      0.82      0.74      2300\n",
            "\n",
            "The confusion_matrix of Dummy classification is  [[1880    0]\n",
            " [ 420    0]]\n"
          ]
        },
        {
          "output_type": "stream",
          "name": "stderr",
          "text": [
            "/usr/local/lib/python3.7/dist-packages/sklearn/metrics/_classification.py:1318: UndefinedMetricWarning: Precision is ill-defined and being set to 0.0 in labels with no predicted samples. Use `zero_division` parameter to control this behavior.\n",
            "  _warn_prf(average, modifier, msg_start, len(result))\n",
            "/usr/local/lib/python3.7/dist-packages/sklearn/metrics/_classification.py:1318: UndefinedMetricWarning: Precision and F-score are ill-defined and being set to 0.0 in labels with no predicted samples. Use `zero_division` parameter to control this behavior.\n",
            "  _warn_prf(average, modifier, msg_start, len(result))\n",
            "/usr/local/lib/python3.7/dist-packages/sklearn/metrics/_classification.py:1318: UndefinedMetricWarning: Precision and F-score are ill-defined and being set to 0.0 in labels with no predicted samples. Use `zero_division` parameter to control this behavior.\n",
            "  _warn_prf(average, modifier, msg_start, len(result))\n",
            "/usr/local/lib/python3.7/dist-packages/sklearn/metrics/_classification.py:1318: UndefinedMetricWarning: Precision and F-score are ill-defined and being set to 0.0 in labels with no predicted samples. Use `zero_division` parameter to control this behavior.\n",
            "  _warn_prf(average, modifier, msg_start, len(result))\n"
          ]
        }
      ]
    },
    {
      "cell_type": "code",
      "source": [
        "print('.:. Dummy Classifier Accuracy:'+'\\033[1m {:.2f}%'.format(dummy_accuracy*100)+' .:.')\n",
        "plot_RoC(dummy)\n",
        "plot_LearningCurv(dummy)"
      ],
      "metadata": {
        "colab": {
          "base_uri": "https://localhost:8080/",
          "height": 752
        },
        "id": "j9Ow6XLtkfip",
        "outputId": "cca5a654-6123-4e14-ed03-53ef5a9437ca"
      },
      "execution_count": null,
      "outputs": [
        {
          "output_type": "stream",
          "name": "stdout",
          "text": [
            ".:. Dummy Classifier Accuracy:\u001b[1m 81.74% .:.\n"
          ]
        },
        {
          "output_type": "display_data",
          "data": {
            "text/plain": [
              "<Figure size 576x396 with 1 Axes>"
            ],
            "image/png": "[encoded data removed]"
          },
          "metadata": {}
        },
        {
          "output_type": "display_data",
          "data": {
            "text/plain": [
              "<Figure size 576x396 with 1 Axes>"
            ],
            "image/png": "[encoded data removed]"
          },
          "metadata": {}
        }
      ]
    },
    {
      "cell_type": "code",
      "source": [
        "# train a logistic model\n",
        "log = LogisticRegression()\n",
        "log.fit(X_train_resampled, y_train_resampled)\n",
        "log_pred = log.predict(X_test)\n",
        "\n",
        "log_accuracy = accuracy_score(y_test, log_pred)\n",
        "log_precision = precision_score(y_test, log_pred, average = \"weighted\")\n",
        "log_recall = recall_score(y_test, log_pred, average = \"weighted\")\n",
        "log_f1 = f1_score(y_test, log_pred, average = \"weighted\")\n",
        "\n",
        "print(\"The accuracy of Logistic Regression is \", log_accuracy)\n",
        "print(\"The precision score of Logistic Regression is \", log_precision)\n",
        "print(\"The recall score of Logistic Regression is \", log_recall)\n",
        "print(\"The F1-score of Logistic Regression is \", log_f1)\n",
        "print(classification_report(y_test,log_pred))"
      ],
      "metadata": {
        "id": "oCrdiSxJ5KKc",
        "colab": {
          "base_uri": "https://localhost:8080/"
        },
        "outputId": "91604dab-720a-4f2c-a034-26b7b4ced5ce"
      },
      "execution_count": null,
      "outputs": [
        {
          "output_type": "stream",
          "name": "stdout",
          "text": [
            "The accuracy of Logistic Regression is  0.6204347826086957\n",
            "The precision score of Logistic Regression is  0.7354252983742586\n",
            "The recall score of Logistic Regression is  0.6204347826086957\n",
            "The F1-score of Logistic Regression is  0.6602198141680925\n",
            "              precision    recall  f1-score   support\n",
            "\n",
            "           0       0.85      0.65      0.74      1880\n",
            "           1       0.23      0.47      0.31       420\n",
            "\n",
            "    accuracy                           0.62      2300\n",
            "   macro avg       0.54      0.56      0.53      2300\n",
            "weighted avg       0.74      0.62      0.66      2300\n",
            "\n"
          ]
        }
      ]
    },
    {
      "cell_type": "code",
      "source": [
        "precision, recall, thresholds = precision_recall_curve(y_test, log.decision_function(X_test))\n",
        "# 找到最接近0的阈值（默认阈值）\n",
        "close_zero = np.argmin(np.abs(thresholds))\n",
        "plt.plot(precision[close_zero], recall[close_zero], 'o', label='threshold zero')\n",
        "\n",
        "plt.plot(precision, recall, label='precision recall curve')\n",
        "plt.xlabel('precision')\n",
        "plt.ylabel('recall')\n",
        "plt.legend(loc='best')\n",
        "# 曲线上的每一个点都对应decision_function的一个可能的阈值。曲线越靠近右上角，则分类器越好。"
      ],
      "metadata": {
        "colab": {
          "base_uri": "https://localhost:8080/",
          "height": 378
        },
        "id": "n-SbcQzwgPyZ",
        "outputId": "9a325438-c2cb-4be8-c200-2b79de3354ea"
      },
      "execution_count": null,
      "outputs": [
        {
          "output_type": "execute_result",
          "data": {
            "text/plain": [
              "<matplotlib.legend.Legend at 0x7f193df01dd0>"
            ]
          },
          "metadata": {},
          "execution_count": 82
        },
        {
          "output_type": "display_data",
          "data": {
            "text/plain": [
              "<Figure size 576x396 with 1 Axes>"
            ],
            "image/png": "[encoded data removed]"
          },
          "metadata": {}
        }
      ]
    },
    {
      "cell_type": "code",
      "source": [
        "print('.:. Logistic Regression Accuracy:'+'\\033[1m {:.2f}%'.format(log_accuracy*100)+' .:.')\n",
        "plot_RoC(log)\n",
        "plot_LearningCurv(log)"
      ],
      "metadata": {
        "colab": {
          "base_uri": "https://localhost:8080/",
          "height": 752
        },
        "id": "sALrPKQ9lwCh",
        "outputId": "77ebc555-f228-48f4-b8bf-31818e59f63d"
      },
      "execution_count": null,
      "outputs": [
        {
          "output_type": "stream",
          "name": "stdout",
          "text": [
            ".:. Logistic Regression Accuracy:\u001b[1m 62.04% .:.\n"
          ]
        },
        {
          "output_type": "display_data",
          "data": {
            "text/plain": [
              "<Figure size 576x396 with 1 Axes>"
            ],
            "image/png": "[encoded data removed]"
          },
          "metadata": {}
        },
        {
          "output_type": "display_data",
          "data": {
            "text/plain": [
              "<Figure size 576x396 with 1 Axes>"
            ],
            "image/png": "[encoded data removed]"
          },
          "metadata": {}
        }
      ]
    },
    {
      "cell_type": "code",
      "source": [
        "# train a Random Forest Model\n",
        "rf = RandomForestClassifier(random_state=1)\n",
        "rf.fit(X_train_resampled, y_train_resampled)\n",
        "rf_pred = rf.predict(X_test)\n",
        "\n",
        "rf_accuracy = accuracy_score(y_test, rf_pred)\n",
        "rf_precision = precision_score(y_test, rf_pred, average = \"weighted\")\n",
        "rf_recall = recall_score(y_test, rf_pred, average = \"weighted\")\n",
        "rf_f1 = f1_score(y_test, rf_pred, average = \"weighted\")\n",
        "\n",
        "print(\"The accuracy of Random Forest is \", rf_accuracy)\n",
        "print(\"The precision score of Random Forest is \", rf_precision)\n",
        "print(\"The recall score of Random Forest is \", rf_recall)\n",
        "print(\"The F1-score of Random Forest is \", rf_f1)\n",
        "print(classification_report(y_test,rf_pred))\n",
        "con_mrix = confusion_matrix(y_test,rf_pred)\n",
        "print(\"The confusion_matrix of Random Forest is \", con_mrix)"
      ],
      "metadata": {
        "id": "fwYIjsj98Jx-",
        "colab": {
          "base_uri": "https://localhost:8080/"
        },
        "outputId": "72cef81d-3ca0-4c27-8000-e381a02cdb02"
      },
      "execution_count": null,
      "outputs": [
        {
          "output_type": "stream",
          "name": "stdout",
          "text": [
            "The accuracy of Random Forest is  0.9734782608695652\n",
            "The precision score of Random Forest is  0.9740506134762095\n",
            "The recall score of Random Forest is  0.9734782608695652\n",
            "The F1-score of Random Forest is  0.9736810835894735\n",
            "              precision    recall  f1-score   support\n",
            "\n",
            "           0       0.99      0.98      0.98      1880\n",
            "           1       0.91      0.95      0.93       420\n",
            "\n",
            "    accuracy                           0.97      2300\n",
            "   macro avg       0.95      0.96      0.96      2300\n",
            "weighted avg       0.97      0.97      0.97      2300\n",
            "\n",
            "The confusion_matrix of Random Forest is  [[1841   39]\n",
            " [  22  398]]\n"
          ]
        }
      ]
    },
    {
      "cell_type": "code",
      "source": [
        "print('.:. Random Forest Accuracy:'+'\\033[1m {:.2f}%'.format(rf_accuracy*100)+' .:.')\n",
        "plot_RoC(rf)\n",
        "plot_LearningCurv(rf)"
      ],
      "metadata": {
        "colab": {
          "base_uri": "https://localhost:8080/",
          "height": 752
        },
        "id": "MeKVUEa4iQ8c",
        "outputId": "12536c24-faea-4656-b10c-1bb920c9805a"
      },
      "execution_count": null,
      "outputs": [
        {
          "output_type": "stream",
          "name": "stdout",
          "text": [
            ".:. Random Forest Accuracy:\u001b[1m 97.35% .:.\n"
          ]
        },
        {
          "output_type": "display_data",
          "data": {
            "text/plain": [
              "<Figure size 576x396 with 1 Axes>"
            ],
            "image/png": "[encoded data removed]"
          },
          "metadata": {}
        },
        {
          "output_type": "display_data",
          "data": {
            "text/plain": [
              "<Figure size 576x396 with 1 Axes>"
            ],
            "image/png": "[encoded data removed]"
          },
          "metadata": {}
        }
      ]
    },
    {
      "cell_type": "code",
      "source": [
        "# train a svm model\n",
        "sv = SVC()\n",
        "sv.fit(X_train_resampled, y_train_resampled)\n",
        "sv_pred = sv.predict(X_test)\n",
        "\n",
        "sv_accuracy = accuracy_score(y_test, sv_pred)\n",
        "sv_precision = precision_score(y_test, sv_pred, average = \"weighted\")\n",
        "sv_recall = recall_score(y_test, sv_pred, average = \"weighted\")\n",
        "sv_f1 = f1_score(y_test, sv_pred, average = \"weighted\")\n",
        "\n",
        "print(\"The accuracy of Support Vector Machine  is \", sv_accuracy)\n",
        "print(\"The precision score of Support Vector Machine  is \", sv_precision)\n",
        "print(\"The recall score of Support Vector Machine  is \", sv_recall)\n",
        "print(\"The F1-score of Support Vector Machine  is \", sv_f1)"
      ],
      "metadata": {
        "id": "3lCmGr6_twZs",
        "colab": {
          "base_uri": "https://localhost:8080/"
        },
        "outputId": "70c68fe7-9862-4e2d-96ae-ea29996351cc"
      },
      "execution_count": null,
      "outputs": [
        {
          "output_type": "stream",
          "name": "stdout",
          "text": [
            "The accuracy of Support Vector Machine  is  0.9669565217391304\n",
            "The precision score of Support Vector Machine  is  0.9675785055064703\n",
            "The recall score of Support Vector Machine  is  0.9669565217391304\n",
            "The F1-score of Support Vector Machine  is  0.9671947335701907\n"
          ]
        }
      ]
    },
    {
      "cell_type": "code",
      "source": [
        "precision, recall, thresholds = precision_recall_curve(y_test, sv.decision_function(X_test))\n",
        "\n",
        "close_zero = np.argmin(np.abs(thresholds))\n",
        "plt.plot(precision[close_zero], recall[close_zero], 'o', label='threshold zero')\n",
        "\n",
        "plt.plot(precision, recall, label='precision recall curve')\n",
        "plt.xlabel('precision')\n",
        "plt.ylabel('recall')\n",
        "plt.legend(loc='best')"
      ],
      "metadata": {
        "colab": {
          "base_uri": "https://localhost:8080/",
          "height": 378
        },
        "id": "JT_tkhRhh2aT",
        "outputId": "2408e827-ca30-4783-cc1d-54b936f7647f"
      },
      "execution_count": null,
      "outputs": [
        {
          "output_type": "execute_result",
          "data": {
            "text/plain": [
              "<matplotlib.legend.Legend at 0x7f1942127210>"
            ]
          },
          "metadata": {},
          "execution_count": 87
        },
        {
          "output_type": "display_data",
          "data": {
            "text/plain": [
              "<Figure size 576x396 with 1 Axes>"
            ],
            "image/png": "[encoded data removed]"
          },
          "metadata": {}
        }
      ]
    },
    {
      "cell_type": "code",
      "source": [
        "print('.:. SVM Accuracy:'+'\\033[1m {:.2f}%'.format(sv_accuracy*100)+' .:.')\n",
        "plot_RoC(sv)\n",
        "plot_LearningCurv(sv)"
      ],
      "metadata": {
        "colab": {
          "base_uri": "https://localhost:8080/",
          "height": 752
        },
        "id": "GqP98p3pmsAG",
        "outputId": "34829b76-0eb8-4c96-ec79-d041fcdb5423"
      },
      "execution_count": null,
      "outputs": [
        {
          "output_type": "stream",
          "name": "stdout",
          "text": [
            ".:. SVM Accuracy:\u001b[1m 96.70% .:.\n"
          ]
        },
        {
          "output_type": "display_data",
          "data": {
            "text/plain": [
              "<Figure size 576x396 with 1 Axes>"
            ],
            "image/png": "[encoded data removed]"
          },
          "metadata": {}
        },
        {
          "output_type": "display_data",
          "data": {
            "text/plain": [
              "<Figure size 576x396 with 1 Axes>"
            ],
            "image/png": "[encoded data removed]"
          },
          "metadata": {}
        }
      ]
    },
    {
      "cell_type": "code",
      "source": [
        "GBclassifier = GradientBoostingClassifier(random_state=1)\n",
        "\n",
        "GBclassifier.fit(X_train_resampled, y_train_resampled)\n",
        "GB_pred = GBclassifier.predict(X_test)\n",
        "\n",
        "GB_accuracy = accuracy_score(y_test, GB_pred)\n",
        "GB_precision = precision_score(y_test, GB_pred, average = \"weighted\")\n",
        "GB_recall = recall_score(y_test, GB_pred, average = \"weighted\")\n",
        "GB_f1 = f1_score(y_test, GB_pred, average = \"weighted\")\n",
        "\n",
        "print(\"The accuracy of GradientBoostingClassifier  is \", GB_accuracy)\n",
        "print(\"The precision score of GradientBoostingClassifier  is \", GB_precision)\n",
        "print(\"The recall score of GradientBoostingClassifier  is \", GB_recall)\n",
        "print(\"The F1-score of GradientBoostingClassifier  is \", GB_f1)"
      ],
      "metadata": {
        "colab": {
          "base_uri": "https://localhost:8080/"
        },
        "id": "mEAKbW7NUB9-",
        "outputId": "95470c8a-d862-47a0-82e7-196d9c5edb88"
      },
      "execution_count": null,
      "outputs": [
        {
          "output_type": "stream",
          "name": "stdout",
          "text": [
            "The accuracy of GradientBoostingClassifier  is  0.9691304347826087\n",
            "The precision score of GradientBoostingClassifier  is  0.9702779001267827\n",
            "The recall score of GradientBoostingClassifier  is  0.9691304347826087\n",
            "The F1-score of GradientBoostingClassifier  is  0.96949946623278\n"
          ]
        }
      ]
    },
    {
      "cell_type": "code",
      "source": [
        "precision, recall, thresholds = precision_recall_curve(y_test, GBclassifier.decision_function(X_test))\n",
        "\n",
        "close_zero = np.argmin(np.abs(thresholds))\n",
        "plt.plot(precision[close_zero], recall[close_zero], 'o', label='threshold zero')\n",
        "\n",
        "plt.plot(precision, recall, label='precision recall curve')\n",
        "plt.xlabel('precision')\n",
        "plt.ylabel('recall')\n",
        "plt.legend(loc='best')"
      ],
      "metadata": {
        "colab": {
          "base_uri": "https://localhost:8080/",
          "height": 378
        },
        "id": "WVKkzMN9SGqf",
        "outputId": "0d3745f4-2f71-4214-abfb-ecf4860d1a15"
      },
      "execution_count": null,
      "outputs": [
        {
          "output_type": "execute_result",
          "data": {
            "text/plain": [
              "<matplotlib.legend.Legend at 0x7f193de9ea50>"
            ]
          },
          "metadata": {},
          "execution_count": 90
        },
        {
          "output_type": "display_data",
          "data": {
            "text/plain": [
              "<Figure size 576x396 with 1 Axes>"
            ],
            "image/png": "[encoded data removed]"
          },
          "metadata": {}
        }
      ]
    },
    {
      "cell_type": "code",
      "source": [
        "print('.:. GradientBoostingClassifier Accuracy:'+'\\033[1m {:.2f}%'.format(sv_accuracy*100)+' .:.')\n",
        "plot_RoC(GBclassifier)\n",
        "plot_LearningCurv(GBclassifier)"
      ],
      "metadata": {
        "colab": {
          "base_uri": "https://localhost:8080/",
          "height": 752
        },
        "id": "VFUL_LIESHK5",
        "outputId": "9f7f738a-4427-4e02-fc3e-60814655f749"
      },
      "execution_count": null,
      "outputs": [
        {
          "output_type": "stream",
          "name": "stdout",
          "text": [
            ".:. GradientBoostingClassifier Accuracy:\u001b[1m 96.70% .:.\n"
          ]
        },
        {
          "output_type": "display_data",
          "data": {
            "text/plain": [
              "<Figure size 576x396 with 1 Axes>"
            ],
            "image/png": "[encoded data removed]"
          },
          "metadata": {}
        },
        {
          "output_type": "display_data",
          "data": {
            "text/plain": [
              "<Figure size 576x396 with 1 Axes>"
            ],
            "image/png": "[encoded data removed]"
          },
          "metadata": {}
        }
      ]
    },
    {
      "cell_type": "code",
      "source": [
        "# --- Create Accuracy Comparison Table ---\n",
        "compare = pd.DataFrame({'Model': ['Dummy Classifier', 'Logistic Regression', 'Random Forest', 'Support Vector Machine', 'Gradient Boosting'\n",
        "                                  ], \n",
        "                        'Accuracy': [dummy_accuracy*100, log_accuracy*100, rf_accuracy*100, sv_accuracy*100, GB_accuracy*100,]})\n",
        "\n",
        "# --- Create Accuracy Comparison Table ---\n",
        "compare.sort_values(by='Accuracy', ascending=False).style.background_gradient(cmap='BuGn').hide_index().set_properties(**{'font-family': 'Segoe UI'})"
      ],
      "metadata": {
        "colab": {
          "base_uri": "https://localhost:8080/",
          "height": 206
        },
        "id": "cOEZJN92VDJG",
        "outputId": "fa65b030-6d9e-42f0-851d-88b1c9a085a2"
      },
      "execution_count": null,
      "outputs": [
        {
          "output_type": "execute_result",
          "data": {
            "text/plain": [
              "<pandas.io.formats.style.Styler at 0x7f193dd7dfd0>"
            ],
            "text/html": [
              "<style type=\"text/css\">\n",
              "#T_7fc52_row0_col0, #T_7fc52_row1_col0, #T_7fc52_row2_col0, #T_7fc52_row3_col0, #T_7fc52_row4_col0 {\n",
              "  font-family: Segoe UI;\n",
              "}\n",
              "#T_7fc52_row0_col1 {\n",
              "  background-color: #00441b;\n",
              "  color: #f1f1f1;\n",
              "  font-family: Segoe UI;\n",
              "}\n",
              "#T_7fc52_row1_col1 {\n",
              "  background-color: #00481d;\n",
              "  color: #f1f1f1;\n",
              "  font-family: Segoe UI;\n",
              "}\n",
              "#T_7fc52_row2_col1 {\n",
              "  background-color: #00491d;\n",
              "  color: #f1f1f1;\n",
              "  font-family: Segoe UI;\n",
              "}\n",
              "#T_7fc52_row3_col1 {\n",
              "  background-color: #55b98f;\n",
              "  color: #f1f1f1;\n",
              "  font-family: Segoe UI;\n",
              "}\n",
              "#T_7fc52_row4_col1 {\n",
              "  background-color: #f7fcfd;\n",
              "  color: #000000;\n",
              "  font-family: Segoe UI;\n",
              "}\n",
              "</style>\n",
              "<table id=\"T_7fc52_\" class=\"dataframe\">\n",
              "  <thead>\n",
              "    <tr>\n",
              "      <th class=\"col_heading level0 col0\" >Model</th>\n",
              "      <th class=\"col_heading level0 col1\" >Accuracy</th>\n",
              "    </tr>\n",
              "  </thead>\n",
              "  <tbody>\n",
              "    <tr>\n",
              "      <td id=\"T_7fc52_row0_col0\" class=\"data row0 col0\" >Random Forest</td>\n",
              "      <td id=\"T_7fc52_row0_col1\" class=\"data row0 col1\" >97.347826</td>\n",
              "    </tr>\n",
              "    <tr>\n",
              "      <td id=\"T_7fc52_row1_col0\" class=\"data row1 col0\" >Gradient Boosting</td>\n",
              "      <td id=\"T_7fc52_row1_col1\" class=\"data row1 col1\" >96.913043</td>\n",
              "    </tr>\n",
              "    <tr>\n",
              "      <td id=\"T_7fc52_row2_col0\" class=\"data row2 col0\" >Support Vector Machine</td>\n",
              "      <td id=\"T_7fc52_row2_col1\" class=\"data row2 col1\" >96.695652</td>\n",
              "    </tr>\n",
              "    <tr>\n",
              "      <td id=\"T_7fc52_row3_col0\" class=\"data row3 col0\" >Dummy Classifier</td>\n",
              "      <td id=\"T_7fc52_row3_col1\" class=\"data row3 col1\" >81.739130</td>\n",
              "    </tr>\n",
              "    <tr>\n",
              "      <td id=\"T_7fc52_row4_col0\" class=\"data row4 col0\" >Logistic Regression</td>\n",
              "      <td id=\"T_7fc52_row4_col1\" class=\"data row4 col1\" >62.043478</td>\n",
              "    </tr>\n",
              "  </tbody>\n",
              "</table>\n"
            ]
          },
          "metadata": {},
          "execution_count": 92
        }
      ]
    },
    {
      "cell_type": "code",
      "source": [
        "# Cross Validation\n",
        "dummy2 = DummyClassifier()\n",
        "dummy_cv = cross_val_score(dummy2, X_train_resampled, y_train_resampled, scoring='accuracy', cv=3)\n",
        "dummy_cv"
      ],
      "metadata": {
        "id": "Q1HRiq0110qT",
        "colab": {
          "base_uri": "https://localhost:8080/"
        },
        "outputId": "6f505853-ab69-4a55-be90-5fbe5d906419"
      },
      "execution_count": null,
      "outputs": [
        {
          "output_type": "execute_result",
          "data": {
            "text/plain": [
              "array([0.5, 0.5, 0.5])"
            ]
          },
          "metadata": {},
          "execution_count": 93
        }
      ]
    },
    {
      "cell_type": "code",
      "source": [
        "log2 = LogisticRegression()\n",
        "log_cv = cross_val_score(log2, X_train_resampled, y_train_resampled, scoring='accuracy', cv=3)\n",
        "log_cv"
      ],
      "metadata": {
        "id": "_kL6SJui6bx6",
        "colab": {
          "base_uri": "https://localhost:8080/"
        },
        "outputId": "82171a5f-f51b-4a7a-9d44-a8d0f5104a22"
      },
      "execution_count": null,
      "outputs": [
        {
          "output_type": "execute_result",
          "data": {
            "text/plain": [
              "array([0.57909836, 0.58114754, 0.58790984])"
            ]
          },
          "metadata": {},
          "execution_count": 94
        }
      ]
    },
    {
      "cell_type": "code",
      "source": [
        "rf2 = RandomForestClassifier(random_state=1)\n",
        "rf_cv = cross_val_score(rf2, X_train_resampled, y_train_resampled, scoring='accuracy', cv=3)\n",
        "rf_cv"
      ],
      "metadata": {
        "id": "Zw6FTV046uxh",
        "colab": {
          "base_uri": "https://localhost:8080/"
        },
        "outputId": "4f4afd88-5ca9-4184-999c-eb32824290c7"
      },
      "execution_count": null,
      "outputs": [
        {
          "output_type": "execute_result",
          "data": {
            "text/plain": [
              "array([0.9852459 , 0.98545082, 0.98545082])"
            ]
          },
          "metadata": {},
          "execution_count": 95
        }
      ]
    },
    {
      "cell_type": "code",
      "source": [
        "sv2 = SVC()\n",
        "sv_cv = cross_val_score(sv2, X_train_resampled, y_train_resampled, scoring='accuracy', cv=3)\n",
        "sv_cv"
      ],
      "metadata": {
        "id": "6w1D0Crn7FY4",
        "colab": {
          "base_uri": "https://localhost:8080/"
        },
        "outputId": "8f8878ba-0a12-46f0-cf54-3c4c41401e70"
      },
      "execution_count": null,
      "outputs": [
        {
          "output_type": "execute_result",
          "data": {
            "text/plain": [
              "array([0.96290984, 0.96086066, 0.9625    ])"
            ]
          },
          "metadata": {},
          "execution_count": 96
        }
      ]
    },
    {
      "cell_type": "code",
      "source": [
        "GB2 = GradientBoostingClassifier(random_state=1)\n",
        "GB_cv = cross_val_score(GB2, X_train_resampled, y_train_resampled, scoring='accuracy', cv=3)\n",
        "GB_cv"
      ],
      "metadata": {
        "colab": {
          "base_uri": "https://localhost:8080/"
        },
        "id": "jgXqh3cDQ0mH",
        "outputId": "598eeece-10da-40dd-cc77-ef51e4275d37"
      },
      "execution_count": null,
      "outputs": [
        {
          "output_type": "execute_result",
          "data": {
            "text/plain": [
              "array([0.98135246, 0.97520492, 0.9807377 ])"
            ]
          },
          "metadata": {},
          "execution_count": 97
        }
      ]
    },
    {
      "cell_type": "code",
      "source": [
        "model_names = [\"Dummy_classifier\", \"Logistic Regression\", \"Random Forest\",\"Support Vector Machine\",\"GradientBoostingClassifier\"]\n",
        "\n",
        "cv_mean = []\n",
        "cv_mean.append(dummy_cv.mean())\n",
        "cv_mean.append(log_cv.mean())\n",
        "cv_mean.append(rf_cv.mean())\n",
        "cv_mean.append(sv_cv.mean())\n",
        "cv_mean.append(GB_cv.mean())"
      ],
      "metadata": {
        "id": "fKM0jysE71UT"
      },
      "execution_count": null,
      "outputs": []
    },
    {
      "cell_type": "code",
      "source": [
        "cv_df = pd.DataFrame({\n",
        "    \"Model\": model_names,\n",
        "    \"cross validation score\": cv_mean\n",
        "})\n",
        "cv_df.sort_values(by='cross validation score', ascending=False)"
      ],
      "metadata": {
        "id": "Gv5WzSo28fkP",
        "colab": {
          "base_uri": "https://localhost:8080/",
          "height": 206
        },
        "outputId": "51b69567-3aca-4082-80a6-1d4c6648d732"
      },
      "execution_count": null,
      "outputs": [
        {
          "output_type": "execute_result",
          "data": {
            "text/plain": [
              "                        Model  cross validation score\n",
              "2               Random Forest                0.985383\n",
              "4  GradientBoostingClassifier                0.979098\n",
              "3      Support Vector Machine                0.962090\n",
              "1         Logistic Regression                0.582719\n",
              "0            Dummy_classifier                0.500000"
            ],
            "text/html": [
              "\n",
              "  <div id=\"df-493d6b8c-8e96-4c13-a10e-bb7952f6f89d\">\n",
              "    <div class=\"colab-df-container\">\n",
              "      <div>\n",
              "<style scoped>\n",
              "    .dataframe tbody tr th:only-of-type {\n",
              "        vertical-align: middle;\n",
              "    }\n",
              "\n",
              "    .dataframe tbody tr th {\n",
              "        vertical-align: top;\n",
              "    }\n",
              "\n",
              "    .dataframe thead th {\n",
              "        text-align: right;\n",
              "    }\n",
              "</style>\n",
              "<table border=\"1\" class=\"dataframe\">\n",
              "  <thead>\n",
              "    <tr style=\"text-align: right;\">\n",
              "      <th></th>\n",
              "      <th>Model</th>\n",
              "      <th>cross validation score</th>\n",
              "    </tr>\n",
              "  </thead>\n",
              "  <tbody>\n",
              "    <tr>\n",
              "      <th>2</th>\n",
              "      <td>Random Forest</td>\n",
              "      <td>0.985383</td>\n",
              "    </tr>\n",
              "    <tr>\n",
              "      <th>4</th>\n",
              "      <td>GradientBoostingClassifier</td>\n",
              "      <td>0.979098</td>\n",
              "    </tr>\n",
              "    <tr>\n",
              "      <th>3</th>\n",
              "      <td>Support Vector Machine</td>\n",
              "      <td>0.962090</td>\n",
              "    </tr>\n",
              "    <tr>\n",
              "      <th>1</th>\n",
              "      <td>Logistic Regression</td>\n",
              "      <td>0.582719</td>\n",
              "    </tr>\n",
              "    <tr>\n",
              "      <th>0</th>\n",
              "      <td>Dummy_classifier</td>\n",
              "      <td>0.500000</td>\n",
              "    </tr>\n",
              "  </tbody>\n",
              "</table>\n",
              "</div>\n",
              "      <button class=\"colab-df-convert\" onclick=\"convertToInteractive('df-493d6b8c-8e96-4c13-a10e-bb7952f6f89d')\"\n",
              "              title=\"Convert this dataframe to an interactive table.\"\n",
              "              style=\"display:none;\">\n",
              "        \n",
              "  <svg xmlns=\"http://www.w3.org/2000/svg\" height=\"24px\"viewBox=\"0 0 24 24\"\n",
              "       width=\"24px\">\n",
              "    <path d=\"M0 0h24v24H0V0z\" fill=\"none\"/>\n",
              "    <path d=\"M18.56 5.44l.94 2.06.94-2.06 2.06-.94-2.06-.94-.94-2.06-.94 2.06-2.06.94zm-11 1L8.5 8.5l.94-2.06 2.06-.94-2.06-.94L8.5 2.5l-.94 2.06-2.06.94zm10 10l.94 2.06.94-2.06 2.06-.94-2.06-.94-.94-2.06-.94 2.06-2.06.94z\"/><path d=\"M17.41 7.96l-1.37-1.37c-.4-.4-.92-.59-1.43-.59-.52 0-1.04.2-1.43.59L10.3 9.45l-7.72 7.72c-.78.78-.78 2.05 0 2.83L4 21.41c.39.39.9.59 1.41.59.51 0 1.02-.2 1.41-.59l7.78-7.78 2.81-2.81c.8-.78.8-2.07 0-2.86zM5.41 20L4 18.59l7.72-7.72 1.47 1.35L5.41 20z\"/>\n",
              "  </svg>\n",
              "      </button>\n",
              "      \n",
              "  <style>\n",
              "    .colab-df-container {\n",
              "      display:flex;\n",
              "      flex-wrap:wrap;\n",
              "      gap: 12px;\n",
              "    }\n",
              "\n",
              "    .colab-df-convert {\n",
              "      background-color: #E8F0FE;\n",
              "      border: none;\n",
              "      border-radius: 50%;\n",
              "      cursor: pointer;\n",
              "      display: none;\n",
              "      fill: #1967D2;\n",
              "      height: 32px;\n",
              "      padding: 0 0 0 0;\n",
              "      width: 32px;\n",
              "    }\n",
              "\n",
              "    .colab-df-convert:hover {\n",
              "      background-color: #E2EBFA;\n",
              "      box-shadow: 0px 1px 2px rgba(60, 64, 67, 0.3), 0px 1px 3px 1px rgba(60, 64, 67, 0.15);\n",
              "      fill: #174EA6;\n",
              "    }\n",
              "\n",
              "    [theme=dark] .colab-df-convert {\n",
              "      background-color: #3B4455;\n",
              "      fill: #D2E3FC;\n",
              "    }\n",
              "\n",
              "    [theme=dark] .colab-df-convert:hover {\n",
              "      background-color: #434B5C;\n",
              "      box-shadow: 0px 1px 3px 1px rgba(0, 0, 0, 0.15);\n",
              "      filter: drop-shadow(0px 1px 2px rgba(0, 0, 0, 0.3));\n",
              "      fill: #FFFFFF;\n",
              "    }\n",
              "  </style>\n",
              "\n",
              "      <script>\n",
              "        const buttonEl =\n",
              "          document.querySelector('#df-493d6b8c-8e96-4c13-a10e-bb7952f6f89d button.colab-df-convert');\n",
              "        buttonEl.style.display =\n",
              "          google.colab.kernel.accessAllowed ? 'block' : 'none';\n",
              "\n",
              "        async function convertToInteractive(key) {\n",
              "          const element = document.querySelector('#df-493d6b8c-8e96-4c13-a10e-bb7952f6f89d');\n",
              "          const dataTable =\n",
              "            await google.colab.kernel.invokeFunction('convertToInteractive',\n",
              "                                                     [key], {});\n",
              "          if (!dataTable) return;\n",
              "\n",
              "          const docLinkHtml = 'Like what you see? Visit the ' +\n",
              "            '<a target=\"_blank\" href=https://colab.research.google.com/notebooks/data_table.ipynb>data table notebook</a>'\n",
              "            + ' to learn more about interactive tables.';\n",
              "          element.innerHTML = '';\n",
              "          dataTable['output_type'] = 'display_data';\n",
              "          await google.colab.output.renderOutput(dataTable, element);\n",
              "          const docLink = document.createElement('div');\n",
              "          docLink.innerHTML = docLinkHtml;\n",
              "          element.appendChild(docLink);\n",
              "        }\n",
              "      </script>\n",
              "    </div>\n",
              "  </div>\n",
              "  "
            ]
          },
          "metadata": {},
          "execution_count": 99
        }
      ]
    },
    {
      "cell_type": "code",
      "source": [],
      "metadata": {
        "id": "vtHuWTlTekkI"
      },
      "execution_count": null,
      "outputs": []
    }
  ]
}